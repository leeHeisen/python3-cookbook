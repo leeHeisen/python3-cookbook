{
 "cells": [
  {
   "attachments": {},
   "cell_type": "markdown",
   "metadata": {},
   "source": [
    "属性查询的优先级\n",
    "1. getattribute()， 无条件调用\n",
    "2. 数据描述符：由1. 触发调用 （若人为的重载了该 getattribute() 方法，可能会导致无法调用描述符）\n",
    "3. 实例对象的字典（若与描述符对象同名，会被覆盖哦）\n",
    "4. 类的字典\n",
    "5. 非数据描述符\n",
    "6. 父类的字典\n",
    "7. getattr() 方法"
   ]
  },
  {
   "cell_type": "code",
   "execution_count": null,
   "metadata": {
    "notebookRunGroups": {
     "groupValue": "1"
    }
   },
   "outputs": [],
   "source": [
    "import pprint\n",
    "pp = pprint.PrettyPrinter(indent=4, compact=False).pprint\n",
    "import attrs\n",
    "from attrs import define, field"
   ]
  },
  {
   "cell_type": "code",
   "execution_count": 35,
   "metadata": {},
   "outputs": [
    {
     "name": "stdout",
     "output_type": "stream",
     "text": [
      "{'ins_val': 10}\n",
      "mappingproxy({   '__dict__': <attribute '__dict__' of 'Test' objects>,\n",
      "                 '__doc__': None,\n",
      "                 '__init__': <function Test.__init__ at 0x000001EE17DF7F70>,\n",
      "                 '__module__': '__main__',\n",
      "                 '__weakref__': <attribute '__weakref__' of 'Test' objects>,\n",
      "                 'cls_val': 1})\n"
     ]
    }
   ],
   "source": [
    "import pprint\n",
    "pp = pprint.PrettyPrinter(indent=4, compact=False).pprint\n",
    "from attrs import define, field\n",
    "\n",
    "class Test(object):\n",
    "    cls_val = 1\n",
    "    def __init__(self):\n",
    "        self.ins_val = 10\n",
    "\n",
    "t = Test()\n",
    "# pp.pprint(t.__dict__)\n",
    "# pp.pprint(Test.__dict__)\n",
    "pp(t.__dict__)\n",
    "pp(Test.__dict__)"
   ]
  },
  {
   "cell_type": "code",
   "execution_count": 53,
   "metadata": {
    "notebookRunGroups": {
     "groupValue": ""
    }
   },
   "outputs": [
    {
     "name": "stdout",
     "output_type": "stream",
     "text": [
      "Student: Tom, math: 90, chinese: 80, english: 70\n",
      "Student: Tom, math: 90, chinese: 80, english: 70\n"
     ]
    }
   ],
   "source": [
    "class Student:\n",
    "    def __init__(self, name, math, chinese, english):\n",
    "        self.name = name\n",
    "        self.math = math\n",
    "        self.chinese = chinese\n",
    "        self.english = english\n",
    "    @property\n",
    "    def math(self):\n",
    "        return self._math\n",
    "    @math.setter\n",
    "    def math(self, value):\n",
    "        if 0 <= value <= 100:\n",
    "            self._math = value\n",
    "        else:\n",
    "            raise ValueError('math score must be between 0 and 100')\n",
    "    @property\n",
    "    def chinese(self):\n",
    "        return self._chinese\n",
    "    @chinese.setter\n",
    "    def chinese(self, value):\n",
    "        if 0 <= value <= 100:\n",
    "            self._chinese = value\n",
    "        else:\n",
    "            raise ValueError('chinese score must be between 0 and 100')\n",
    "    @property\n",
    "    def english(self):\n",
    "        return self._english\n",
    "    @english.setter\n",
    "    def english(self, value):\n",
    "        if 0 <= value <= 100:\n",
    "            self._english = value\n",
    "        else:\n",
    "            raise ValueError('english score must be between 0 and 100')\n",
    "    def __repr__(self):\n",
    "        return f\"Student: {self.name}, math: {self.math}, chinese: {self.chinese}, english: {self.english}\"\n",
    "\n",
    "stu = Student('Tom', 90, 80, 70)\n",
    "pp(stu)\n",
    "print(stu)"
   ]
  },
  {
   "cell_type": "code",
   "execution_count": 88,
   "metadata": {
    "notebookRunGroups": {
     "groupValue": ""
    }
   },
   "outputs": [
    {
     "name": "stdout",
     "output_type": "stream",
     "text": [
      "attrs_pre_init\n",
      "attrs_post_init\n",
      "custome init\n",
      "{'chinese': 80, 'english': 70, 'math': 90, 'name': 'Tom'}\n",
      "Student: Tom, math: 90, chinese: 80, english: 70\n"
     ]
    }
   ],
   "source": [
    "@define(slots=False)\n",
    "class Score:\n",
    "    def __init__(self, score=0, subject=None) -> None:\n",
    "        self._score = score\n",
    "        self._subject = subject\n",
    "    def __get__(self, instance, owner):\n",
    "        return self._scocre\n",
    "    def __set__(self, instance, value):\n",
    "        if not isinstance(value, int):\n",
    "            raise ValueError(f'{self._subject} score must be int')\n",
    "        if not 0 <= value <= 100:\n",
    "            raise ValueError(f'{self._subject} score must be between 0 and 100')\n",
    "        self._scocre = value\n",
    "    def __delete__(self):\n",
    "        del self._scocre\n",
    "\n",
    "@define(slots=False)\n",
    "class Student:\n",
    "    math = Score(score=0, subject='math')\n",
    "    chinese = Score(score=0, subject='chinese')\n",
    "    english = Score(score=0, subject='english')\n",
    "    \n",
    "    def __attrs_pre_init__(self):\n",
    "        print('attrs_pre_init')\n",
    "\n",
    "\n",
    "    \"\"\"\n",
    "    attrs: custom init\n",
    "    \n",
    "    \"\"\" \n",
    "    name: str\n",
    "    math: int\n",
    "    chinese: int\n",
    "    english: int\n",
    "\n",
    "    def __init__(self, name, math, chinese, english):\n",
    "        self.__attrs_init__(name, math, chinese, english)\n",
    "        print(\"custome init\")\n",
    "\n",
    "    \"\"\"\n",
    "    attrs: post_init\n",
    "    \"\"\"\n",
    "    # name: str = field()\n",
    "    # math: int = field()\n",
    "    # chinese: int = field()\n",
    "    # english: int = field()\n",
    "\n",
    "    def __attrs_post_init__(self):\n",
    "        print('attrs_post_init')\n",
    "    # def __init__(self, name, math, chinese, english):\n",
    "    #     self.name = name\n",
    "    #     self.math = math\n",
    "    #     self.chinese = chinese\n",
    "    #     self.english = english\n",
    "\n",
    "    def __repr__(self):\n",
    "        return f\"Student: {self.name}, math: {self.math}, chinese: {self.chinese}, english: {self.english}\"\n",
    "\n",
    "stu = Student('Tom', 90, 80, 70)\n",
    "pp(attrs.asdict(stu))\n",
    "pp(stu)\n",
    "        "
   ]
  },
  {
   "cell_type": "code",
   "execution_count": 127,
   "metadata": {
    "notebookRunGroups": {
     "groupValue": "1"
    }
   },
   "outputs": [
    {
     "name": "stdout",
     "output_type": "stream",
     "text": [
      "访问数据描述符里的__get__\n",
      "访问非数据描述符里的__get__\n",
      "调用__getattribute____class__\n",
      "调用__getattribute___name\n",
      "调用__getattribute___math\n",
      "调用__getattribute___chinese\n",
      "{'_chinese': 90, '_math': 80, '_name': 'Tom'}\n"
     ]
    }
   ],
   "source": [
    "@define(slots=False)\n",
    "class DataDes:\n",
    "    _score: field(default=0)\n",
    "    # def __init__(self, score=0):\n",
    "    #     self._score = score\n",
    "    def __set__(self, instance, value):\n",
    "        self._score = value\n",
    "    def __get__(self, instance, owner):\n",
    "        print(\"访问数据描述符里的__get__\")\n",
    "        return self._score\n",
    "\n",
    "@define(slots=False)\n",
    "class NonDataDes:\n",
    "    _score: field(default=0)\n",
    "    # def __init__(self, score=0):\n",
    "    #     self._score = score\n",
    "    def __get__(self, instance, owner):\n",
    "        print(\"访问非数据描述符里的__get__\")\n",
    "        return self._score\n",
    "\n",
    "\n",
    "@define(slots=False)\n",
    "class Student:\n",
    "    _math = DataDes(0)\n",
    "    _chinese = NonDataDes(0)\n",
    "\n",
    "    _name: str\n",
    "    _math: int\n",
    "    _chinese: int\n",
    "    \n",
    "    def __getattribute__(self, item):\n",
    "        print(f\"调用__getattribute__{item}\")\n",
    "        return super().__getattribute__(item)\n",
    "    \n",
    "    def __repr__(self):\n",
    "        return f\"Student: {self._name}, math: {self._math}, chinese: {self._chinese}\"\n",
    "    \n",
    "stu = Student(chinese = 90, math = 80, name='Tom')\n",
    "pp(attrs.asdict(stu))\n",
    "\n",
    "# pp(attrs.asdict(stu))\n",
    "# pp(stu._math)\n",
    "# pp(stu._chinese)\n",
    "# print(stu)\n",
    "\n",
    "\n"
   ]
  },
  {
   "cell_type": "code",
   "execution_count": null,
   "metadata": {},
   "outputs": [],
   "source": []
  }
 ],
 "metadata": {
  "kernelspec": {
   "display_name": "Python 3",
   "language": "python",
   "name": "python3"
  },
  "language_info": {
   "codemirror_mode": {
    "name": "ipython",
    "version": 3
   },
   "file_extension": ".py",
   "mimetype": "text/x-python",
   "name": "python",
   "nbconvert_exporter": "python",
   "pygments_lexer": "ipython3",
   "version": "3.8.10"
  },
  "orig_nbformat": 4,
  "vscode": {
   "interpreter": {
    "hash": "f973cb4a030b09cd9bb9856738ba63fde5060c61bd9ad83165067cfeae9c8fdd"
   }
  }
 },
 "nbformat": 4,
 "nbformat_minor": 2
}
