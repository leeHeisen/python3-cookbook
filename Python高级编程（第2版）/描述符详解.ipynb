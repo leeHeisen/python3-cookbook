{
 "cells": [
  {
   "attachments": {},
   "cell_type": "markdown",
   "metadata": {},
   "source": [
    "属性查询的优先级\n",
    "1. getattribute()， 无条件调用\n",
    "2. 数据描述符：由1. 触发调用 （若人为的重载了该 getattribute() 方法，可能会导致无法调用描述符）\n",
    "3. 实例对象的字典（若与描述符对象同名，会被覆盖哦）\n",
    "4. 类的字典\n",
    "5. 非数据描述符\n",
    "6. 父类的字典\n",
    "7. getattr() 方法"
   ]
  },
  {
   "cell_type": "code",
   "execution_count": 3,
   "metadata": {
    "notebookRunGroups": {
     "groupValue": "1"
    }
   },
   "outputs": [],
   "source": [
    "import pprint\n",
    "pp = pprint.PrettyPrinter(indent=4, compact=False).pprint\n",
    "import attrs\n",
    "from attrs import define, field"
   ]
  },
  {
   "cell_type": "code",
   "execution_count": 4,
   "metadata": {},
   "outputs": [
    {
     "name": "stdout",
     "output_type": "stream",
     "text": [
      "{'ins_val': 10}\n",
      "mappingproxy({   '__dict__': <attribute '__dict__' of 'Test' objects>,\n",
      "                 '__doc__': None,\n",
      "                 '__init__': <function Test.__init__ at 0x000001D1969EE550>,\n",
      "                 '__module__': '__main__',\n",
      "                 '__weakref__': <attribute '__weakref__' of 'Test' objects>,\n",
      "                 'cls_val': 1})\n"
     ]
    }
   ],
   "source": [
    "import pprint\n",
    "pp = pprint.PrettyPrinter(indent=4, compact=False).pprint\n",
    "from attrs import define, field\n",
    "\n",
    "class Test(object):\n",
    "    cls_val = 1\n",
    "    def __init__(self):\n",
    "        self.ins_val = 10\n",
    "\n",
    "t = Test()\n",
    "# pp.pprint(t.__dict__)\n",
    "# pp.pprint(Test.__dict__)\n",
    "pp(t.__dict__)\n",
    "pp(Test.__dict__)"
   ]
  },
  {
   "cell_type": "code",
   "execution_count": 5,
   "metadata": {
    "notebookRunGroups": {
     "groupValue": ""
    }
   },
   "outputs": [
    {
     "name": "stdout",
     "output_type": "stream",
     "text": [
      "Student: Tom, math: 90, chinese: 80, english: 70\n",
      "Student: Tom, math: 90, chinese: 80, english: 70\n"
     ]
    }
   ],
   "source": [
    "class Student:\n",
    "    def __init__(self, name, math, chinese, english):\n",
    "        self.name = name\n",
    "        self.math = math\n",
    "        self.chinese = chinese\n",
    "        self.english = english\n",
    "    @property\n",
    "    def math(self):\n",
    "        return self._math\n",
    "    @math.setter\n",
    "    def math(self, value):\n",
    "        if 0 <= value <= 100:\n",
    "            self._math = value\n",
    "        else:\n",
    "            raise ValueError('math score must be between 0 and 100')\n",
    "    @property\n",
    "    def chinese(self):\n",
    "        return self._chinese\n",
    "    @chinese.setter\n",
    "    def chinese(self, value):\n",
    "        if 0 <= value <= 100:\n",
    "            self._chinese = value\n",
    "        else:\n",
    "            raise ValueError('chinese score must be between 0 and 100')\n",
    "    @property\n",
    "    def english(self):\n",
    "        return self._english\n",
    "    @english.setter\n",
    "    def english(self, value):\n",
    "        if 0 <= value <= 100:\n",
    "            self._english = value\n",
    "        else:\n",
    "            raise ValueError('english score must be between 0 and 100')\n",
    "    def __repr__(self):\n",
    "        return f\"Student: {self.name}, math: {self.math}, chinese: {self.chinese}, english: {self.english}\"\n",
    "\n",
    "stu = Student('Tom', 90, 80, 70)\n",
    "pp(stu)\n",
    "print(stu)"
   ]
  },
  {
   "cell_type": "code",
   "execution_count": 6,
   "metadata": {
    "notebookRunGroups": {
     "groupValue": ""
    }
   },
   "outputs": [
    {
     "name": "stdout",
     "output_type": "stream",
     "text": [
      "attrs_pre_init\n",
      "attrs_post_init\n",
      "custome init\n",
      "{'chinese': 80, 'english': 70, 'math': 90, 'name': 'Tom'}\n",
      "Student: Tom, math: 90, chinese: 80, english: 70\n"
     ]
    }
   ],
   "source": [
    "@define(slots=False)\n",
    "class Score:\n",
    "    def __init__(self, score=0, subject=None) -> None:\n",
    "        self._score = score\n",
    "        self._subject = subject\n",
    "    def __get__(self, instance, owner):\n",
    "        return self._scocre\n",
    "    def __set__(self, instance, value):\n",
    "        if not isinstance(value, int):\n",
    "            raise ValueError(f'{self._subject} score must be int')\n",
    "        if not 0 <= value <= 100:\n",
    "            raise ValueError(f'{self._subject} score must be between 0 and 100')\n",
    "        self._scocre = value\n",
    "    def __delete__(self):\n",
    "        del self._scocre\n",
    "\n",
    "@define(slots=False)\n",
    "class Student:\n",
    "    math = Score(score=0, subject='math')\n",
    "    chinese = Score(score=0, subject='chinese')\n",
    "    english = Score(score=0, subject='english')\n",
    "    \n",
    "    def __attrs_pre_init__(self):\n",
    "        print('attrs_pre_init')\n",
    "\n",
    "\n",
    "    \"\"\"\n",
    "    attrs: custom init\n",
    "    \n",
    "    \"\"\" \n",
    "    name: str\n",
    "    math: int\n",
    "    chinese: int\n",
    "    english: int\n",
    "\n",
    "    def __init__(self, name, math, chinese, english):\n",
    "        self.__attrs_init__(name, math, chinese, english)\n",
    "        print(\"custome init\")\n",
    "\n",
    "    \"\"\"\n",
    "    attrs: post_init\n",
    "    \"\"\"\n",
    "    # name: str = field()\n",
    "    # math: int = field()\n",
    "    # chinese: int = field()\n",
    "    # english: int = field()\n",
    "\n",
    "    def __attrs_post_init__(self):\n",
    "        print('attrs_post_init')\n",
    "    # def __init__(self, name, math, chinese, english):\n",
    "    #     self.name = name\n",
    "    #     self.math = math\n",
    "    #     self.chinese = chinese\n",
    "    #     self.english = english\n",
    "\n",
    "    def __repr__(self):\n",
    "        return f\"Student: {self.name}, math: {self.math}, chinese: {self.chinese}, english: {self.english}\"\n",
    "\n",
    "stu = Student('Tom', 90, 80, 70)\n",
    "pp(attrs.asdict(stu))\n",
    "pp(stu)\n",
    "        "
   ]
  },
  {
   "cell_type": "code",
   "execution_count": 7,
   "metadata": {
    "notebookRunGroups": {
     "groupValue": "1"
    }
   },
   "outputs": [
    {
     "name": "stdout",
     "output_type": "stream",
     "text": [
      "访问数据描述符里的__get__\n",
      "访问非数据描述符里的__get__\n",
      "调用__getattribute____class__\n",
      "调用__getattribute___name\n",
      "调用__getattribute___math\n",
      "调用__getattribute___chinese\n",
      "{'_chinese': 90, '_math': 80, '_name': 'Tom'}\n"
     ]
    }
   ],
   "source": [
    "@define(slots=False)\n",
    "class DataDes:\n",
    "    _score: field(default=0)\n",
    "    # def __init__(self, score=0):\n",
    "    #     self._score = score\n",
    "    def __set__(self, instance, value):\n",
    "        self._score = value\n",
    "    def __get__(self, instance, owner):\n",
    "        print(\"访问数据描述符里的__get__\")\n",
    "        return self._score\n",
    "\n",
    "@define(slots=False)\n",
    "class NonDataDes:\n",
    "    _score: field(default=0)\n",
    "    # def __init__(self, score=0):\n",
    "    #     self._score = score\n",
    "    def __get__(self, instance, owner):\n",
    "        print(\"访问非数据描述符里的__get__\")\n",
    "        return self._score\n",
    "\n",
    "\n",
    "@define(slots=False)\n",
    "class Student:\n",
    "    _math = DataDes(0)\n",
    "    _chinese = NonDataDes(0)\n",
    "\n",
    "    _name: str\n",
    "    _math: int\n",
    "    _chinese: int\n",
    "    \n",
    "    def __getattribute__(self, item):\n",
    "        print(f\"调用__getattribute__{item}\")\n",
    "        return super().__getattribute__(item)\n",
    "    \n",
    "    def __repr__(self):\n",
    "        return f\"Student: {self._name}, math: {self._math}, chinese: {self._chinese}\"\n",
    "    \n",
    "stu = Student(chinese = 90, math = 80, name='Tom')\n",
    "pp(attrs.asdict(stu))\n",
    "\n",
    "# pp(attrs.asdict(stu))\n",
    "# pp(stu._math)\n",
    "# pp(stu._chinese)\n",
    "# print(stu)\n",
    "\n",
    "\n"
   ]
  },
  {
   "cell_type": "code",
   "execution_count": 8,
   "metadata": {},
   "outputs": [
    {
     "name": "stdout",
     "output_type": "stream",
     "text": [
      "{'1': {'1': []}}\n",
      "{'1': []}\n",
      "Yes\n",
      "{'1': [], '2': {'1': []}}\n",
      "Yes\n",
      "{'1': []}\n",
      "Yes\n",
      "{'1': {'1': {'1': 1}}, '2': {'1': 1, '2': {'1': 1}}}\n"
     ]
    }
   ],
   "source": [
    "a = {\n",
    "    \"1\": {\n",
    "        \"1\": {\n",
    "            \"1\": []}},\n",
    "    \"2\": {\n",
    "        \"1\": [],\n",
    "        \"2\": {\n",
    "            \"1\": []\n",
    "        }\n",
    "    }\n",
    "}\n",
    "def give_value(data):\n",
    "    for k, v in data.items():\n",
    "        # print(k, v)\n",
    "        if isinstance(v, list):\n",
    "            print(\"Yes\")\n",
    "            data[k] = 1\n",
    "            # v = 1\n",
    "        else:\n",
    "            print(v)\n",
    "            give_value(v)\n",
    "give_value(a)\n",
    "print(a)"
   ]
  },
  {
   "cell_type": "code",
   "execution_count": 9,
   "metadata": {},
   "outputs": [
    {
     "name": "stdout",
     "output_type": "stream",
     "text": [
      "<__main__.Data object at 0x000001D196ABC8E0>\n",
      "{'1': <__main__.Data object at 0x000001D1969B0EB0>, '2': <__main__.Data object at 0x000001D196ABCD90>}\n",
      "{'3': 15, '15': 15}\n"
     ]
    }
   ],
   "source": [
    "class Data:\n",
    "    def __init__(self):\n",
    "        pass\n",
    "\n",
    "\n",
    "idx = 0\n",
    "def create_node(data, value):\n",
    "    data.__setattr__(str(value), value)\n",
    "\n",
    "data = Data()\n",
    "setattr(data, \"1\", Data())\n",
    "setattr(getattr(data,\"1\"), \"1\", Data())\n",
    "\n",
    "data.__setattr__(\"2\", Data())\n",
    "data.__getattribute__(\"2\").__setattr__(\"3\", 15)\n",
    " \n",
    "print(data)\n",
    "print(data.__dict__)\n",
    "create_node(data.__getattribute__(\"2\"), 15)\n",
    "\n",
    "print(data.__getattribute__(\"2\").__dict__)"
   ]
  },
  {
   "cell_type": "code",
   "execution_count": 10,
   "metadata": {},
   "outputs": [
    {
     "ename": "SyntaxError",
     "evalue": "unexpected EOF while parsing (891763077.py, line 4)",
     "output_type": "error",
     "traceback": [
      "\u001b[1;36m  Cell \u001b[1;32mIn[10], line 4\u001b[1;36m\u001b[0m\n\u001b[1;33m    \u001b[0m\n\u001b[1;37m    ^\u001b[0m\n\u001b[1;31mSyntaxError\u001b[0m\u001b[1;31m:\u001b[0m unexpected EOF while parsing\n"
     ]
    }
   ],
   "source": [
    "from dataclasses import dataclass\n",
    "@dataclass\n",
    "class Data:\n",
    "    "
   ]
  },
  {
   "cell_type": "code",
   "execution_count": null,
   "metadata": {},
   "outputs": [
    {
     "name": "stdout",
     "output_type": "stream",
     "text": [
      "{'Dict': {'a': 1}, 'List': [2, 0, 0]}\n"
     ]
    }
   ],
   "source": [
    "class Test:\n",
    "    def __init__(self):\n",
    "        pass\n",
    "    def __getitem__(self, key):\n",
    "        if isinstance(key, int):\n",
    "            return self.List[key]\n",
    "        elif isinstance(key, str):\n",
    "            return self.__dict__[key]\n",
    "    def __setitem__(self, key, value):\n",
    "        if isinstance(key, str):\n",
    "            if 'Dict' not in self.__dict__:\n",
    "                self.__dict__['Dict'] = {}\n",
    "            self.__dict__['Dict'][key] = value\n",
    "        if isinstance(key, int):\n",
    "            if 'List' not in self.__dict__:\n",
    "                self.__dict__['List'] = [0, 0, 0]\n",
    "            self.__dict__['List'][key] = value\n",
    "\n",
    "t = Test()\n",
    "t['a'] = 1\n",
    "t[0] = 2\n",
    "\n",
    "print(t.__dict__)\n",
    "\n",
    "\n"
   ]
  },
  {
   "cell_type": "code",
   "execution_count": null,
   "metadata": {},
   "outputs": [
    {
     "name": "stdout",
     "output_type": "stream",
     "text": [
      "{'s': 1}\n",
      "{'asf': {'a': [1, 2, 3], 'b': 2}, 'b': 2}\n",
      "{'asf': {'s': 1}}\n"
     ]
    }
   ],
   "source": [
    "\n",
    "from dataclasses import dataclass\n",
    "# @dataclass\n",
    "class OD(dict):\n",
    "    def __init__(self, *args, **kwargs):\n",
    "        # print(self.__dict__)\n",
    "        # print(dir(self))\n",
    "        super().__init__(*args, **kwargs)\n",
    "        # print(self.__dict__)\n",
    "        # print(dir(self))\n",
    "        # self.__dict__ = self\n",
    "    # def __getattr__(self, name):\n",
    "    #     value = self[name]\n",
    "    #     print(value)\n",
    "    #     if isinstance(value, dict):\n",
    "    #         value = OD(value)\n",
    "    #         print(\"    {0}\", value)\n",
    "    #     return value\n",
    "\n",
    "od = OD(asf={'a': [1, 2, 3], 'b': 2}, b=2)\n",
    "od.asf = OD(s=1)\n",
    "# od.asf = OD(a=1, b=2)\n",
    "# print(od.b)\n",
    "print(od.asf)\n",
    "print(od)\n",
    "print(od.__dict__)\n",
    "# print(od.__getattr__('a'))\n",
    "# print(dict.__dict__)\n"
   ]
  },
  {
   "cell_type": "code",
   "execution_count": null,
   "metadata": {},
   "outputs": [
    {
     "name": "stdout",
     "output_type": "stream",
     "text": [
      "{}\n"
     ]
    }
   ],
   "source": [
    "\n",
    "class OD(dict):\n",
    "    def __init__(self, *args, **kwargs):\n",
    "        pass\n",
    "\n",
    "od = OD(asf=1, b=2)\n",
    "print(od)"
   ]
  },
  {
   "cell_type": "code",
   "execution_count": null,
   "metadata": {},
   "outputs": [
    {
     "name": "stdout",
     "output_type": "stream",
     "text": [
      "{'_type': <class 'list'>, '1': 'abc', '2': 'def'}\n",
      "['abc', 'def']\n",
      "{'_type': <class 'dict'>, '1': 'qwe', '2': 'asd'}\n",
      "{'1': 'qwe', '2': 'asd'}\n"
     ]
    }
   ],
   "source": [
    "class Data:\n",
    "    def __init__(self, t):\n",
    "        if isinstance(t, str):\n",
    "            if t in ('list', 'dict'):\n",
    "                self._type = {'list': list, 'dict': dict}[t]\n",
    "            else:\n",
    "                raise ValueError(\"type string must be 'list' or 'dict'\")\n",
    "        elif isinstance(t, type):\n",
    "            if t in (list, dict):\n",
    "                self._type = t\n",
    "            else:\n",
    "                raise ValueError(\"type must be list or dict\")\n",
    "        else:\n",
    "            raise ValueError(\"type must be string or type\")\n",
    "        \n",
    "    def __setitem__(self, index, value):\n",
    "        self.__dict__[str(index)] = value\n",
    "        # self.__settattr__(str(index), value)\n",
    "    def __getitem__(self, index):\n",
    "        return self.__dict__[str(index)]\n",
    "        # return self.__getattr__(str(index))\n",
    "    def __setattr__(self, index, value):\n",
    "        self.__dict__[str(index)] = value\n",
    "    def __getattr__(self, index, value):\n",
    "        return self.__dict__[str(index)]\n",
    "    @property\n",
    "    def value(self):\n",
    "        keys = set(self.__dict__.keys())\n",
    "        keys.remove('_type')\n",
    "        if self._type == list:\n",
    "            sorted_keys = sorted([int(i) for i in keys])\n",
    "            rlt = [self.__dict__[str(i)] for i in sorted_keys]\n",
    "            return rlt\n",
    "        if self._type == dict:\n",
    "            rlt = {i: self.__dict__[i] for i in keys}\n",
    "            return rlt\n",
    "\n",
    "            \n",
    "        \n",
    "\n",
    "\n",
    "data = Data(list)\n",
    "data[1] = \"abc\"\n",
    "data[2]= \"def\"\n",
    "print(data.__dict__)\n",
    "print(data.value)\n",
    "\n",
    "data2 = Data(dict)\n",
    "data2[1] = \"qwe\"\n",
    "data2[2] = \"asd\"\n",
    "print(data2.__dict__)\n",
    "print(data2.value)\n",
    "    \n",
    "        \n",
    "    "
   ]
  },
  {
   "cell_type": "code",
   "execution_count": null,
   "metadata": {},
   "outputs": [
    {
     "name": "stdout",
     "output_type": "stream",
     "text": [
      "$C$1:$J$1\n"
     ]
    }
   ],
   "source": [
    "import xlwings as xw\n",
    "import re\n",
    "wb_path = r\"D:\\GIT\\Github\\TinyTool\\xlsx\\test.xlsx\"\n",
    "ws_name = \"Test2\"\n",
    "class Range:\n",
    "    pass\n",
    "\n",
    "\n",
    "app = xw.App(visible=True, add_book=False)\n",
    "with app.books.open(wb_path) as wb:\n",
    "    ws = wb.sheets[ws_name]\n",
    "    rng = ws.range(1, 3).merge_area.address\n",
    "    print(rng)\n",
    "    # print(dir(rng))\n",
    "    # print(f\"rows: {rng.rows}\")\n",
    "    # print(f\"columns: {rng.columns}\")\n",
    "    # print(f\"address: {rng.address}\")\n",
    "    # print(f\"column_width: {rng.column_width}\")\n",
    "    # print(f\"row_height: {rng.row_height}\")\n",
    "    # print(f\"height: {rng.height}\")\n",
    "    # print(f\"width: {rng.width}\")\n",
    "    # print(f\"merge_area: {rng.merge_area}\")\n",
    "\n",
    "\n",
    "\n",
    "\n",
    "\n",
    "\n",
    "\n",
    "app.quit()"
   ]
  },
  {
   "cell_type": "code",
   "execution_count": null,
   "metadata": {},
   "outputs": [
    {
     "name": "stdout",
     "output_type": "stream",
     "text": [
      "['CA', '1', 'J', '1']\n",
      "((79, 1), (10, 1))\n",
      "['ah']\n",
      "34\n",
      "['a', '12']\n",
      "(1, 12)\n"
     ]
    },
    {
     "data": {
      "text/plain": [
       "(1, 12)"
      ]
     },
     "execution_count": 79,
     "metadata": {},
     "output_type": "execute_result"
    }
   ],
   "source": [
    "pr = True\n",
    "def print_return(pr=True):\n",
    "    def deco(func):\n",
    "        def wrapper(*args, **kwargs):\n",
    "            rlt = func(*args, **kwargs)\n",
    "            if pr :\n",
    "                print(rlt)\n",
    "            return rlt\n",
    "        return wrapper\n",
    "    return deco\n",
    "        \n",
    "\n",
    "# @print_return(pr)\n",
    "# def is_digit(s):\n",
    "#     return s.isdigit()\n",
    "\n",
    "import re\n",
    "def col_to_num(col_str):\n",
    "    \"\"\" Convert base26 column string to number. \"\"\"\n",
    "    expn = 0\n",
    "    col_num = 0\n",
    "    for char in reversed(col_str):\n",
    "        col_num += (ord(char) - ord('A') + 1) * (26 ** expn)\n",
    "        expn += 1\n",
    "    return col_num\n",
    "\n",
    "@print_return(pr)\n",
    "def convert_address(address):\n",
    "    reg = re.compile(r\"([a-zA-Z]+|[0-9]+)\")\n",
    "    # reg_num = re.compile(r\"[0-9]+\")\n",
    "    strs = reg.findall(address)\n",
    "    print(strs)\n",
    "    rlts = []\n",
    "    for s in strs:\n",
    "        if s.isdigit():\n",
    "            rlts.append(int(s))\n",
    "        else:\n",
    "            rlts.append(col_to_num(s.upper()))\n",
    "    if len(rlts) == 1:\n",
    "        result = rlts[0]\n",
    "    elif len(rlts) == 2:\n",
    "        result = (rlts[0], rlts[1])\n",
    "    elif len(rlts) ==4:\n",
    "        result = ((rlts[0], rlts[1]), (rlts[2], rlts[3]))\n",
    "\n",
    "    return result\n",
    "\n",
    "\n",
    "a = \"$CA$1:$J$1\"\n",
    "b = \"ah\"\n",
    "c = \"a12\"\n",
    "# print(convert_address(a))\n",
    "# print(convert_address(b))\n",
    "# print(\"12\".isdigit())\n",
    "# is_digit(\"12\")\n",
    "convert_address(a)\n",
    "convert_address(b)\n",
    "convert_address(c)\n",
    "\n",
    "\n"
   ]
  },
  {
   "cell_type": "code",
   "execution_count": 100,
   "metadata": {},
   "outputs": [
    {
     "name": "stdout",
     "output_type": "stream",
     "text": [
      "{'c': 'abcd', 'b': <__main__.Data object at 0x000001D1983FF7F0>, 'a': 1}\n"
     ]
    }
   ],
   "source": [
    "    \n",
    "class Data:\n",
    "    def __init__(self, t):\n",
    "        if isinstance(t, str):\n",
    "            if t in ('list', 'dict'):\n",
    "                self._type = {'list': list, 'dict': dict}[t]\n",
    "            else:\n",
    "                raise ValueError(\"type string must be 'list' or 'dict'\")\n",
    "        elif isinstance(t, type):\n",
    "            if t in (list, dict):\n",
    "                self._type = t\n",
    "            else:\n",
    "                raise ValueError(\"type must be list or dict\")\n",
    "        else:\n",
    "            raise ValueError(\"type must be string or type\")\n",
    "        \n",
    "    def __setitem__(self, index, value):\n",
    "        self.__dict__[str(index)] = value\n",
    "        # self.__settattr__(str(index), value)\n",
    "    def __getitem__(self, index):\n",
    "        return self.__dict__[str(index)]\n",
    "        # return self.__getattr__(str(index))\n",
    "    def __setattr__(self, index, value):\n",
    "        self.__dict__[str(index)] = value\n",
    "    def __getattr__(self, index, value):\n",
    "        return self.__dict__[str(index)]\n",
    "\n",
    "    \n",
    "    # @classmethod\n",
    "    # @property\n",
    "    # def value(self):\n",
    "    #     keys = set(self.__dict__.keys())\n",
    "    #     keys.remove('_type')\n",
    "    #     # print(keys)\n",
    "    #     if self._type == list:\n",
    "    #         # print(\"list\")\n",
    "    #         sorted_keys = sorted([int(i) for i in keys])\n",
    "    #         for i in sorted_keys:\n",
    "    #             if type(self.__dict__[str(i)]) is Data:\n",
    "    #                 rlt = [self.__dict__[str(i)].value() for i in sorted_keys]\n",
    "    #             else:\n",
    "    #                 rlt = [self.__dict__[str(i)] for i in sorted_keys]\n",
    "    #     if self._type == dict:\n",
    "    #         # print(\"dict\")\n",
    "    #         for i in keys:\n",
    "    #             if type(self.__dict__[i]) is Data:\n",
    "    #                 rlt = {i: self.__dict__[i].value() for i in keys}\n",
    "    #             else:\n",
    "    #                 rlt = {i: self.__dict__[i] for i in keys}\n",
    "    #     return rlt\n",
    "\n",
    "def render_value(obj):\n",
    "    if type(obj) is Data:\n",
    "        keys = set(obj.__dict__.keys())\n",
    "        keys.remove('_type')\n",
    "        # print(keys)\n",
    "        if obj._type == list:\n",
    "            sorted_keys = sorted([int(i) for i in keys])\n",
    "            for i in sorted_keys:\n",
    "                # print(\"{0} {1}\".format(obj.__dict__, type(obj.__dict__[str(i)])))\n",
    "                if type(obj.__dict__[str(i)]) is Data:\n",
    "                    rlt = [render_value(obj.__dict__[str(i)]) for i in sorted_keys]\n",
    "                else:\n",
    "                    rlt = [obj[str(i)] for i in sorted_keys]\n",
    "        if obj._type == dict:\n",
    "            for i in keys:\n",
    "                # print(\"{0} {1}\".format(obj.__dict__, type(obj.__dict__[i])))\n",
    "                if type(obj.__dict__[i]) is Data:\n",
    "                    rlt = {i: render_value(obj.__dict__[i]) for i in keys}\n",
    "                else:\n",
    "                    rlt = {i: obj[i] for i in keys}\n",
    "    else:\n",
    "        rlt = obj\n",
    "    return rlt\n",
    "\n",
    "data = Data('dict')\n",
    "data.a = 1\n",
    "data.b = Data('list')\n",
    "data.c = \"abcd\"\n",
    "data.b[1] = Data('dict')\n",
    "data.b[1].a = 1\n",
    "data.b[0] = Data('dict')\n",
    "data.b[0].a = 2\n",
    "\n",
    "# print(data)\n",
    "r = render_value(data)\n",
    "print(r)"
   ]
  },
  {
   "cell_type": "code",
   "execution_count": null,
   "metadata": {},
   "outputs": [
    {
     "name": "stdout",
     "output_type": "stream",
     "text": [
      "Node(0)\n",
      "Node(1)\n",
      "Node(3)\n",
      "Node(2)\n",
      "Node(4)\n"
     ]
    }
   ],
   "source": [
    "class Node:\n",
    "    def __init__(self, value) -> None:\n",
    "        self._value = value\n",
    "        self._children = []\n",
    "    def __repr__(self) -> str:\n",
    "        return f\"Node({self._value})\"\n",
    "    def add_child(self, node):\n",
    "        self._children.append(node)\n",
    "    def __iter__(self):\n",
    "        return iter(self._children)\n",
    "    def depth_first(self):\n",
    "        yield self\n",
    "        for c in self:\n",
    "            yield from c.depth_first()\n",
    "\n",
    "root = Node(0)\n",
    "c1 = Node(1)\n",
    "c2 = Node(2)\n",
    "root.add_child(c1)\n",
    "root.add_child(c2)\n",
    "c1.add_child(Node(3))\n",
    "c2.add_child(Node(4))\n",
    "\n",
    "for i in root.depth_first():\n",
    "    print(i)\n"
   ]
  },
  {
   "cell_type": "code",
   "execution_count": 18,
   "metadata": {},
   "outputs": [
    {
     "name": "stdout",
     "output_type": "stream",
     "text": [
      "1\n",
      "([1, 2],)\n"
     ]
    }
   ],
   "source": [
    "a = (1, 2)\n",
    "c = [[1, 2]]\n",
    "b = tuple([a])\n",
    "c = tuple(c)\n",
    "print(len(b))\n",
    "print(c)\n"
   ]
  },
  {
   "cell_type": "code",
   "execution_count": null,
   "metadata": {},
   "outputs": [],
   "source": [
    "\n",
    "class Countdown:\n",
    "    def __init__(self, step) -> None:\n",
    "        print(\"start init\")\n",
    "        self.step = step\n",
    "        print(\"init done\\n\")\n",
    "    def __next__(self):\n",
    "        print(\"start next with step: {0}\".format(self.step))\n",
    "        if self.step > 5:\n",
    "            raise StopIteration\n",
    "        self.step += 1\n",
    "        print(\"end next with step: {0}\\n\".format(self.step))\n",
    "        return self\n",
    "    def __iter__(self):\n",
    "        return self#.__next__()\n",
    "\n",
    "# c = Countdown(0)\n",
    "# next(c)\n",
    "# for i in c:\n",
    "#     print(i)\n",
    "# for idx, i in enumerate(c):\n",
    "#     print(idx, i.step)\n",
    "\n",
    "# for i in range(12):\n",
    "#     # print(c.step)\n",
    "#     print(i)\n",
    "#     print(\"step{0}\".format(c.step))\n",
    "#     next(c)\n",
    "\n",
    "for idx, i in enumerate(Countdown(0)):\n",
    "    print(\"idx {0}\".format(idx))\n",
    "    # print(i.step)\n",
    "# print(list(Countdown(0)))\n",
    "\n",
    "\n"
   ]
  },
  {
   "cell_type": "code",
   "execution_count": null,
   "metadata": {},
   "outputs": [],
   "source": [
    "def func():\n",
    "    print(\"start func\")\n",
    "    while True:\n",
    "        res = yield  4\n",
    "        print(\"res: {0}\".format(res))\n",
    "\n",
    "\n",
    "f = func()\n",
    "print(\"###\")\n",
    "print(next(f))\n",
    "print(\"===\")\n",
    "print(next(f))\n",
    "print(\"+++\")\n",
    "print(next(f))\n",
    "print(\"---\")\n",
    "print(next(f))"
   ]
  },
  {
   "cell_type": "code",
   "execution_count": 86,
   "metadata": {},
   "outputs": [
    {
     "name": "stdout",
     "output_type": "stream",
     "text": [
      "init called\n",
      "\n",
      "===\n",
      "iter called\n",
      "\n",
      "next called\n",
      "self.step before += 1: 0\n",
      "self.step after += 1: 1\n",
      "\n",
      "0\n",
      "1\n",
      "next called\n",
      "self.step before += 1: 1\n",
      "self.step after += 1: 2\n",
      "\n",
      "1\n",
      "2\n",
      "next called\n",
      "self.step before += 1: 2\n",
      "self.step after += 1: 3\n",
      "\n",
      "2\n",
      "3\n",
      "next called\n",
      "self.step before += 1: 3\n",
      "self.step after += 1: 4\n",
      "\n",
      "3\n",
      "4\n",
      "next called\n",
      "self.step before += 1: 4\n",
      "self.step after += 1: 5\n",
      "\n",
      "4\n",
      "5\n",
      "next called\n",
      "self.step before += 1: 5\n",
      "self.step after += 1: 6\n",
      "\n",
      "5\n",
      "6\n",
      "next called\n",
      "self.step before += 1: 6\n"
     ]
    }
   ],
   "source": [
    "class C:\n",
    "    def __init__(self, step=0):\n",
    "        self.step = step\n",
    "        print(\"init called\\n\")\n",
    "        pass\n",
    "    def __iter__(self):\n",
    "        print(\"iter called\\n\")\n",
    "        return self\n",
    "    def __next__(self):\n",
    "        print(\"next called\")\n",
    "        print(\"self.step before += 1: {0}\".format(self.step))\n",
    "        if self.step > 5:\n",
    "            raise StopIteration\n",
    "        self.step += 1\n",
    "        print(\"self.step after += 1: {0}\\n\".format(self.step))\n",
    "        # yield self\n",
    "        return self\n",
    "        print('yield done')\n",
    "\n",
    "c = C()\n",
    "print(\"===\")\n",
    "for idx, i in enumerate(c):\n",
    "    print(idx)\n",
    "    print(i.step)\n",
    "    # next(i)\n",
    "    # print(i.step)\n",
    "\n"
   ]
  },
  {
   "cell_type": "code",
   "execution_count": 95,
   "metadata": {},
   "outputs": [
    {
     "name": "stdout",
     "output_type": "stream",
     "text": [
      "i am class variable\n",
      "1999709598784\n",
      "i am class variable\n",
      "1999709598784\n",
      "====\n",
      "i am still class vairalbe\n",
      "1999708935472\n",
      "i am still class vairalbe\n",
      "1999708935472\n",
      "====\n",
      "i am still class vairalbe\n",
      "1999708935472\n",
      "i am instance variable\n",
      "1999712275952\n",
      "====\n",
      "Are you instance variable?\n",
      "1999712273472\n",
      "i am instance variable\n",
      "1999712275952\n"
     ]
    }
   ],
   "source": [
    "class C1:\n",
    "    v1 = \"i am class variable\"\n",
    "print(C1.v1)\n",
    "print(id(C1.v1))\n",
    "c1 = C1()\n",
    "print(c1.v1)\n",
    "print(id(c1.v1))\n",
    "print(\"====\")\n",
    "C1.v1 = \"i am still class vairalbe\"\n",
    "print(C1.v1)\n",
    "print(id(C1.v1))\n",
    "print(c1.v1)\n",
    "print(id(c1.v1))\n",
    "print(\"====\")\n",
    "c1.v1 = \"i am instance variable\"\n",
    "print(C1.v1)\n",
    "print(id(C1.v1))\n",
    "print(c1.v1)\n",
    "print(id(c1.v1))\n",
    "print(\"====\")\n",
    "C1.v1 = \"Are you instance variable?\"\n",
    "print(C1.v1)\n",
    "print(id(C1.v1))\n",
    "print(c1.v1)\n",
    "print(id(c1.v1))\n",
    "\n",
    "\n"
   ]
  }
 ],
 "metadata": {
  "kernelspec": {
   "display_name": "Python 3",
   "language": "python",
   "name": "python3"
  },
  "language_info": {
   "codemirror_mode": {
    "name": "ipython",
    "version": 3
   },
   "file_extension": ".py",
   "mimetype": "text/x-python",
   "name": "python",
   "nbconvert_exporter": "python",
   "pygments_lexer": "ipython3",
   "version": "3.8.10"
  },
  "orig_nbformat": 4,
  "vscode": {
   "interpreter": {
    "hash": "f973cb4a030b09cd9bb9856738ba63fde5060c61bd9ad83165067cfeae9c8fdd"
   }
  }
 },
 "nbformat": 4,
 "nbformat_minor": 2
}
