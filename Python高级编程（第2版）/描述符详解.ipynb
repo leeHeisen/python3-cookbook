{
 "cells": [
  {
   "attachments": {},
   "cell_type": "markdown",
   "metadata": {},
   "source": [
    "属性查询的优先级\n",
    "1. getattribute()， 无条件调用\n",
    "2. 数据描述符：由1. 触发调用 （若人为的重载了该 getattribute() 方法，可能会导致无法调用描述符）\n",
    "3. 实例对象的字典（若与描述符对象同名，会被覆盖哦）\n",
    "4. 类的字典\n",
    "5. 非数据描述符\n",
    "6. 父类的字典\n",
    "7. getattr() 方法"
   ]
  },
  {
   "cell_type": "code",
   "execution_count": 3,
   "metadata": {
    "notebookRunGroups": {
     "groupValue": "1"
    }
   },
   "outputs": [],
   "source": [
    "import pprint\n",
    "pp = pprint.PrettyPrinter(indent=4, compact=False).pprint\n",
    "import attrs\n",
    "from attrs import define, field"
   ]
  },
  {
   "cell_type": "code",
   "execution_count": 4,
   "metadata": {},
   "outputs": [
    {
     "name": "stdout",
     "output_type": "stream",
     "text": [
      "{'ins_val': 10}\n",
      "mappingproxy({   '__dict__': <attribute '__dict__' of 'Test' objects>,\n",
      "                 '__doc__': None,\n",
      "                 '__init__': <function Test.__init__ at 0x000001D1969EE550>,\n",
      "                 '__module__': '__main__',\n",
      "                 '__weakref__': <attribute '__weakref__' of 'Test' objects>,\n",
      "                 'cls_val': 1})\n"
     ]
    }
   ],
   "source": [
    "import pprint\n",
    "pp = pprint.PrettyPrinter(indent=4, compact=False).pprint\n",
    "from attrs import define, field\n",
    "                    \n",
    "class Test(object):\n",
    "    cls_val = 1\n",
    "    def __init__(self):\n",
    "        self.ins_val = 10\n",
    "\n",
    "t = Test()\n",
    "# pp.pprint(t.__dict__)\n",
    "# pp.pprint(Test.__dict__)\n",
    "pp(t.__dict__)\n",
    "pp(Test.__dict__)"
   ]
  },
  {
   "cell_type": "code",
   "execution_count": 5,
   "metadata": {
    "notebookRunGroups": {
     "groupValue": ""
    }
   },
   "outputs": [
    {
     "name": "stdout",
     "output_type": "stream",
     "text": [
      "Student: Tom, math: 90, chinese: 80, english: 70\n",
      "Student: Tom, math: 90, chinese: 80, english: 70\n"
     ]
    }
   ],
   "source": [
    "class Student:\n",
    "    def __init__(self, name, math, chinese, english):\n",
    "        self.name = name\n",
    "        self.math = math\n",
    "        self.chinese = chinese\n",
    "        self.english = english\n",
    "    @property\n",
    "    def math(self):\n",
    "        return self._math\n",
    "    @math.setter\n",
    "    def math(self, value):\n",
    "        if 0 <= value <= 100:\n",
    "            self._math = value\n",
    "        else:\n",
    "            raise ValueError('math score must be between 0 and 100')\n",
    "    @property\n",
    "    def chinese(self):\n",
    "        return self._chinese\n",
    "    @chinese.setter\n",
    "    def chinese(self, value):\n",
    "        if 0 <= value <= 100:\n",
    "            self._chinese = value\n",
    "        else:\n",
    "            raise ValueError('chinese score must be between 0 and 100')\n",
    "    @property\n",
    "    def english(self):\n",
    "        return self._english\n",
    "    @english.setter\n",
    "    def english(self, value):\n",
    "        if 0 <= value <= 100:\n",
    "            self._english = value\n",
    "        else:\n",
    "            raise ValueError('english score must be between 0 and 100')\n",
    "    def __repr__(self):\n",
    "        return f\"Student: {self.name}, math: {self.math}, chinese: {self.chinese}, english: {self.english}\"\n",
    "\n",
    "stu = Student('Tom', 90, 80, 70)\n",
    "pp(stu)\n",
    "print(stu)"
   ]
  },
  {
   "cell_type": "code",
   "execution_count": 6,
   "metadata": {
    "notebookRunGroups": {
     "groupValue": ""
    }
   },
   "outputs": [
    {
     "name": "stdout",
     "output_type": "stream",
     "text": [
      "attrs_pre_init\n",
      "attrs_post_init\n",
      "custome init\n",
      "{'chinese': 80, 'english': 70, 'math': 90, 'name': 'Tom'}\n",
      "Student: Tom, math: 90, chinese: 80, english: 70\n"
     ]
    }
   ],
   "source": [
    "@define(slots=False)\n",
    "class Score:\n",
    "    def __init__(self, score=0, subject=None) -> None:\n",
    "        self._score = score\n",
    "        self._subject = subject\n",
    "    def __get__(self, instance, owner):\n",
    "        return self._scocre\n",
    "    def __set__(self, instance, value):\n",
    "        if not isinstance(value, int):\n",
    "            raise ValueError(f'{self._subject} score must be int')\n",
    "        if not 0 <= value <= 100:\n",
    "            raise ValueError(f'{self._subject} score must be between 0 and 100')\n",
    "        self._scocre = value\n",
    "    def __delete__(self):\n",
    "        del self._scocre\n",
    "\n",
    "@define(slots=False)\n",
    "class Student:\n",
    "    math = Score(score=0, subject='math')\n",
    "    chinese = Score(score=0, subject='chinese')\n",
    "    english = Score(score=0, subject='english')\n",
    "    \n",
    "    def __attrs_pre_init__(self):\n",
    "        print('attrs_pre_init')\n",
    "\n",
    "\n",
    "    \"\"\"\n",
    "    attrs: custom init\n",
    "    \n",
    "    \"\"\" \n",
    "    name: str\n",
    "    math: int\n",
    "    chinese: int\n",
    "    english: int\n",
    "\n",
    "    def __init__(self, name, math, chinese, english):\n",
    "        self.__attrs_init__(name, math, chinese, english)\n",
    "        print(\"custome init\")\n",
    "\n",
    "    \"\"\"\n",
    "    attrs: post_init\n",
    "    \"\"\"\n",
    "    # name: str = field()\n",
    "    # math: int = field()\n",
    "    # chinese: int = field()\n",
    "    # english: int = field()\n",
    "\n",
    "    def __attrs_post_init__(self):\n",
    "        print('attrs_post_init')\n",
    "    # def __init__(self, name, math, chinese, english):\n",
    "    #     self.name = name\n",
    "    #     self.math = math\n",
    "    #     self.chinese = chinese\n",
    "    #     self.english = english\n",
    "\n",
    "    def __repr__(self):\n",
    "        return f\"Student: {self.name}, math: {self.math}, chinese: {self.chinese}, english: {self.english}\"\n",
    "\n",
    "stu = Student('Tom', 90, 80, 70)\n",
    "pp(attrs.asdict(stu))\n",
    "pp(stu)\n",
    "        "
   ]
  },
  {
   "cell_type": "code",
   "execution_count": 7,
   "metadata": {
    "notebookRunGroups": {
     "groupValue": "1"
    }
   },
   "outputs": [
    {
     "name": "stdout",
     "output_type": "stream",
     "text": [
      "访问数据描述符里的__get__\n",
      "访问非数据描述符里的__get__\n",
      "调用__getattribute____class__\n",
      "调用__getattribute___name\n",
      "调用__getattribute___math\n",
      "调用__getattribute___chinese\n",
      "{'_chinese': 90, '_math': 80, '_name': 'Tom'}\n"
     ]
    }
   ],
   "source": [
    "@define(slots=False)\n",
    "class DataDes:\n",
    "    _score: field(default=0)\n",
    "    # def __init__(self, score=0):\n",
    "    #     self._score = score\n",
    "    def __set__(self, instance, value):\n",
    "        self._score = value\n",
    "    def __get__(self, instance, owner):\n",
    "        print(\"访问数据描述符里的__get__\")\n",
    "        return self._score\n",
    "\n",
    "@define(slots=False)\n",
    "class NonDataDes:\n",
    "    _score: field(default=0)\n",
    "    # def __init__(self, score=0):\n",
    "    #     self._score = score\n",
    "    def __get__(self, instance, owner):\n",
    "        print(\"访问非数据描述符里的__get__\")\n",
    "        return self._score\n",
    "\n",
    "\n",
    "@define(slots=False)\n",
    "class Student:\n",
    "    _math = DataDes(0)\n",
    "    _chinese = NonDataDes(0)\n",
    "\n",
    "    _name: str\n",
    "    _math: int\n",
    "    _chinese: int\n",
    "    \n",
    "    def __getattribute__(self, item):\n",
    "        print(f\"调用__getattribute__{item}\")\n",
    "        return super().__getattribute__(item)\n",
    "    \n",
    "    def __repr__(self):\n",
    "        return f\"Student: {self._name}, math: {self._math}, chinese: {self._chinese}\"\n",
    "    \n",
    "stu = Student(chinese = 90, math = 80, name='Tom')\n",
    "pp(attrs.asdict(stu))\n",
    "\n",
    "# pp(attrs.asdict(stu))\n",
    "# pp(stu._math)\n",
    "# pp(stu._chinese)\n",
    "# print(stu)\n",
    "\n",
    "\n"
   ]
  },
  {
   "cell_type": "code",
   "execution_count": 8,
   "metadata": {},
   "outputs": [
    {
     "name": "stdout",
     "output_type": "stream",
     "text": [
      "{'1': {'1': []}}\n",
      "{'1': []}\n",
      "Yes\n",
      "{'1': [], '2': {'1': []}}\n",
      "Yes\n",
      "{'1': []}\n",
      "Yes\n",
      "{'1': {'1': {'1': 1}}, '2': {'1': 1, '2': {'1': 1}}}\n"
     ]
    }
   ],
   "source": [
    "a = {\n",
    "    \"1\": {\n",
    "        \"1\": {\n",
    "            \"1\": []}},\n",
    "    \"2\": {\n",
    "        \"1\": [],\n",
    "        \"2\": {\n",
    "            \"1\": []\n",
    "        }\n",
    "    }\n",
    "}\n",
    "def give_value(data):\n",
    "    for k, v in data.items():\n",
    "        # print(k, v)\n",
    "        if isinstance(v, list):\n",
    "            print(\"Yes\")\n",
    "            data[k] = 1\n",
    "            # v = 1\n",
    "        else:\n",
    "            print(v)\n",
    "            give_value(v)\n",
    "give_value(a)\n",
    "print(a)"
   ]
  },
  {
   "cell_type": "code",
   "execution_count": 9,
   "metadata": {},
   "outputs": [
    {
     "name": "stdout",
     "output_type": "stream",
     "text": [
      "<__main__.Data object at 0x000001D196ABC8E0>\n",
      "{'1': <__main__.Data object at 0x000001D1969B0EB0>, '2': <__main__.Data object at 0x000001D196ABCD90>}\n",
      "{'3': 15, '15': 15}\n"
     ]
    }
   ],
   "source": [
    "class Data:\n",
    "    def __init__(self):\n",
    "        pass\n",
    "\n",
    "\n",
    "idx = 0\n",
    "def create_node(data, value):\n",
    "    data.__setattr__(str(value), value)\n",
    "\n",
    "data = Data()\n",
    "setattr(data, \"1\", Data())\n",
    "setattr(getattr(data,\"1\"), \"1\", Data())\n",
    "\n",
    "data.__setattr__(\"2\", Data())\n",
    "data.__getattribute__(\"2\").__setattr__(\"3\", 15)\n",
    " \n",
    "print(data)\n",
    "print(data.__dict__)\n",
    "create_node(data.__getattribute__(\"2\"), 15)\n",
    "\n",
    "print(data.__getattribute__(\"2\").__dict__)"
   ]
  },
  {
   "cell_type": "code",
   "execution_count": 10,
   "metadata": {},
   "outputs": [
    {
     "ename": "SyntaxError",
     "evalue": "unexpected EOF while parsing (891763077.py, line 4)",
     "output_type": "error",
     "traceback": [
      "\u001b[1;36m  Cell \u001b[1;32mIn[10], line 4\u001b[1;36m\u001b[0m\n\u001b[1;33m    \u001b[0m\n\u001b[1;37m    ^\u001b[0m\n\u001b[1;31mSyntaxError\u001b[0m\u001b[1;31m:\u001b[0m unexpected EOF while parsing\n"
     ]
    }
   ],
   "source": [
    "from dataclasses import dataclass\n",
    "@dataclass\n",
    "class Data:\n",
    "    "
   ]
  },
  {
   "cell_type": "code",
   "execution_count": null,
   "metadata": {},
   "outputs": [
    {
     "name": "stdout",
     "output_type": "stream",
     "text": [
      "{'Dict': {'a': 1}, 'List': [2, 0, 0]}\n"
     ]
    }
   ],
   "source": [
    "class Test:\n",
    "    def __init__(self):\n",
    "        pass\n",
    "    def __getitem__(self, key):\n",
    "        if isinstance(key, int):\n",
    "            return self.List[key]\n",
    "        elif isinstance(key, str):\n",
    "            return self.__dict__[key]\n",
    "    def __setitem__(self, key, value):\n",
    "        if isinstance(key, str):\n",
    "            if 'Dict' not in self.__dict__:\n",
    "                self.__dict__['Dict'] = {}\n",
    "            self.__dict__['Dict'][key] = value\n",
    "        if isinstance(key, int):\n",
    "            if 'List' not in self.__dict__:\n",
    "                self.__dict__['List'] = [0, 0, 0]\n",
    "            self.__dict__['List'][key] = value\n",
    "\n",
    "t = Test()\n",
    "t['a'] = 1\n",
    "t[0] = 2\n",
    "\n",
    "print(t.__dict__)\n",
    "\n",
    "\n"
   ]
  },
  {
   "cell_type": "code",
   "execution_count": null,
   "metadata": {},
   "outputs": [
    {
     "name": "stdout",
     "output_type": "stream",
     "text": [
      "{'s': 1}\n",
      "{'asf': {'a': [1, 2, 3], 'b': 2}, 'b': 2}\n",
      "{'asf': {'s': 1}}\n"
     ]
    }
   ],
   "source": [
    "\n",
    "from dataclasses import dataclass\n",
    "# @dataclass\n",
    "class OD(dict):\n",
    "    def __init__(self, *args, **kwargs):\n",
    "        # print(self.__dict__)\n",
    "        # print(dir(self))\n",
    "        super().__init__(*args, **kwargs)\n",
    "        # print(self.__dict__)\n",
    "        # print(dir(self))\n",
    "        # self.__dict__ = self\n",
    "    # def __getattr__(self, name):\n",
    "    #     value = self[name]\n",
    "    #     print(value)\n",
    "    #     if isinstance(value, dict):\n",
    "    #         value = OD(value)\n",
    "    #         print(\"    {0}\", value)\n",
    "    #     return value\n",
    "\n",
    "od = OD(asf={'a': [1, 2, 3], 'b': 2}, b=2)\n",
    "od.asf = OD(s=1)\n",
    "# od.asf = OD(a=1, b=2)\n",
    "# print(od.b)\n",
    "print(od.asf)\n",
    "print(od)\n",
    "print(od.__dict__)\n",
    "# print(od.__getattr__('a'))\n",
    "# print(dict.__dict__)\n"
   ]
  },
  {
   "cell_type": "code",
   "execution_count": null,
   "metadata": {},
   "outputs": [
    {
     "name": "stdout",
     "output_type": "stream",
     "text": [
      "{}\n"
     ]
    }
   ],
   "source": [
    "\n",
    "class OD(dict):\n",
    "    def __init__(self, *args, **kwargs):\n",
    "        pass\n",
    "\n",
    "od = OD(asf=1, b=2)\n",
    "print(od)"
   ]
  },
  {
   "cell_type": "code",
   "execution_count": null,
   "metadata": {},
   "outputs": [
    {
     "name": "stdout",
     "output_type": "stream",
     "text": [
      "{'_type': <class 'list'>, '1': 'abc', '2': 'def'}\n",
      "['abc', 'def']\n",
      "{'_type': <class 'dict'>, '1': 'qwe', '2': 'asd'}\n",
      "{'1': 'qwe', '2': 'asd'}\n"
     ]
    }
   ],
   "source": [
    "class Data:\n",
    "    def __init__(self, t):\n",
    "        if isinstance(t, str):\n",
    "            if t in ('list', 'dict'):\n",
    "                self._type = {'list': list, 'dict': dict}[t]\n",
    "            else:\n",
    "                raise ValueError(\"type string must be 'list' or 'dict'\")\n",
    "        elif isinstance(t, type):\n",
    "            if t in (list, dict):\n",
    "                self._type = t\n",
    "            else:\n",
    "                raise ValueError(\"type must be list or dict\")\n",
    "        else:\n",
    "            raise ValueError(\"type must be string or type\")\n",
    "        \n",
    "    def __setitem__(self, index, value):\n",
    "        self.__dict__[str(index)] = value\n",
    "        # self.__settattr__(str(index), value)\n",
    "    def __getitem__(self, index):\n",
    "        return self.__dict__[str(index)]\n",
    "        # return self.__getattr__(str(index))\n",
    "    def __setattr__(self, index, value):\n",
    "        self.__dict__[str(index)] = value\n",
    "    def __getattr__(self, index, value):\n",
    "        return self.__dict__[str(index)]\n",
    "    @property\n",
    "    def value(self):\n",
    "        keys = set(self.__dict__.keys())\n",
    "        keys.remove('_type')\n",
    "        if self._type == list:\n",
    "            sorted_keys = sorted([int(i) for i in keys])\n",
    "            rlt = [self.__dict__[str(i)] for i in sorted_keys]\n",
    "            return rlt\n",
    "        if self._type == dict:\n",
    "            rlt = {i: self.__dict__[i] for i in keys}\n",
    "            return rlt\n",
    "\n",
    "            \n",
    "        \n",
    "\n",
    "\n",
    "data = Data(list)\n",
    "data[1] = \"abc\"\n",
    "data[2]= \"def\"\n",
    "print(data.__dict__)\n",
    "print(data.value)\n",
    "\n",
    "data2 = Data(dict)\n",
    "data2[1] = \"qwe\"\n",
    "data2[2] = \"asd\"\n",
    "print(data2.__dict__)\n",
    "print(data2.value)\n",
    "    \n",
    "        \n",
    "    "
   ]
  },
  {
   "cell_type": "code",
   "execution_count": 2,
   "metadata": {},
   "outputs": [
    {
     "name": "stdout",
     "output_type": "stream",
     "text": [
      "D:\\GIT\\Github\\easyxl\\xlsx\n"
     ]
    }
   ],
   "source": [
    "import xlwings as xw\n",
    "import os\n",
    "import re\n",
    "wb_path = r\"D:\\GIT\\Github\\easyxl\\xlsx\\test.xlsx\"\n",
    "app = xw.App(visible=True, add_book=False)\n",
    "wb = app.books.open(wb_path)\n",
    "print(os.path.dirname(wb.fullname))\n",
    "# ws_name = \"cmd\"\n",
    "# class Range:\n",
    "#     pass\n",
    "# import os\n",
    "# from pathlib import Path\n",
    "\n",
    "# wb_path = Path(wb_path)\n",
    "# output_path = wb_path / \"output\"#os.path.join(wb_path.parent, \"output\")\n",
    "\n",
    "\n",
    "# print(output_path)\n",
    "\n",
    "# print(wb_path.parent)\n",
    "\n",
    "# app = xw.App(visible=True, add_book=False)\n",
    "# with app.books.open(wb_path) as wb:\n",
    "#     ws = wb.sheets[ws_name]\n",
    "#     rng = ws.range((1, 1), (1, 2)).value\n",
    "#     print(rng)\n",
    "\n",
    "\n",
    "\n",
    "\n",
    "\n",
    "\n",
    "\n",
    "# app.quit()"
   ]
  },
  {
   "cell_type": "code",
   "execution_count": null,
   "metadata": {},
   "outputs": [
    {
     "name": "stdout",
     "output_type": "stream",
     "text": [
      "['CA', '1', 'J', '1']\n",
      "((79, 1), (10, 1))\n",
      "['ah']\n",
      "34\n",
      "['a', '12']\n",
      "(1, 12)\n"
     ]
    },
    {
     "data": {
      "text/plain": [
       "(1, 12)"
      ]
     },
     "execution_count": 79,
     "metadata": {},
     "output_type": "execute_result"
    }
   ],
   "source": [
    "pr = True\n",
    "def print_return(pr=True):\n",
    "    def deco(func):\n",
    "        def wrapper(*args, **kwargs):\n",
    "            rlt = func(*args, **kwargs)\n",
    "            if pr :\n",
    "                print(rlt)\n",
    "            return rlt\n",
    "        return wrapper\n",
    "    return deco\n",
    "        \n",
    "\n",
    "# @print_return(pr)\n",
    "# def is_digit(s):\n",
    "#     return s.isdigit()\n",
    "\n",
    "import re\n",
    "def col_to_num(col_str):\n",
    "    \"\"\" Convert base26 column string to number. \"\"\"\n",
    "    expn = 0\n",
    "    col_num = 0\n",
    "    for char in reversed(col_str):\n",
    "        col_num += (ord(char) - ord('A') + 1) * (26 ** expn)\n",
    "        expn += 1\n",
    "    return col_num\n",
    "\n",
    "@print_return(pr)\n",
    "def convert_address(address):\n",
    "    reg = re.compile(r\"([a-zA-Z]+|[0-9]+)\")\n",
    "    # reg_num = re.compile(r\"[0-9]+\")\n",
    "    strs = reg.findall(address)\n",
    "    print(strs)\n",
    "    rlts = []\n",
    "    for s in strs:\n",
    "        if s.isdigit():\n",
    "            rlts.append(int(s))\n",
    "        else:\n",
    "            rlts.append(col_to_num(s.upper()))\n",
    "    if len(rlts) == 1:\n",
    "        result = rlts[0]\n",
    "    elif len(rlts) == 2:\n",
    "        result = (rlts[0], rlts[1])\n",
    "    elif len(rlts) ==4:\n",
    "        result = ((rlts[0], rlts[1]), (rlts[2], rlts[3]))\n",
    "\n",
    "    return result\n",
    "\n",
    "\n",
    "a = \"$CA$1:$J$1\"\n",
    "b = \"ah\"\n",
    "c = \"a12\"\n",
    "# print(convert_address(a))\n",
    "# print(convert_address(b))\n",
    "# print(\"12\".isdigit())\n",
    "# is_digit(\"12\")\n",
    "convert_address(a)\n",
    "convert_address(b)\n",
    "convert_address(c)\n",
    "\n",
    "\n"
   ]
  },
  {
   "cell_type": "code",
   "execution_count": 103,
   "metadata": {},
   "outputs": [
    {
     "ename": "UnboundLocalError",
     "evalue": "local variable 'rlt' referenced before assignment",
     "output_type": "error",
     "traceback": [
      "\u001b[1;31m---------------------------------------------------------------------------\u001b[0m",
      "\u001b[1;31mUnboundLocalError\u001b[0m                         Traceback (most recent call last)",
      "Cell \u001b[1;32mIn[103], line 53\u001b[0m\n\u001b[0;32m     50\u001b[0m data\u001b[39m.\u001b[39mb[\u001b[39m0\u001b[39m]\u001b[39m.\u001b[39ma \u001b[39m=\u001b[39m \u001b[39m2\u001b[39m\n\u001b[0;32m     52\u001b[0m \u001b[39m# print(data)\u001b[39;00m\n\u001b[1;32m---> 53\u001b[0m r \u001b[39m=\u001b[39m render_value(data)\n\u001b[0;32m     54\u001b[0m \u001b[39mprint\u001b[39m(r)\n",
      "Cell \u001b[1;32mIn[103], line 41\u001b[0m, in \u001b[0;36mrender_value\u001b[1;34m(obj)\u001b[0m\n\u001b[0;32m     39\u001b[0m \u001b[39melse\u001b[39;00m:\n\u001b[0;32m     40\u001b[0m     rlt \u001b[39m=\u001b[39m obj\n\u001b[1;32m---> 41\u001b[0m \u001b[39mreturn\u001b[39;00m rlt\n",
      "\u001b[1;31mUnboundLocalError\u001b[0m: local variable 'rlt' referenced before assignment"
     ]
    }
   ],
   "source": [
    "    \n",
    "class Data:\n",
    "    def __init__(self, t):\n",
    "        if t in ('list', 'dict'):\n",
    "            self._type = t\n",
    "        else:\n",
    "            print(t)\n",
    "            raise ValueError(\"type input error\")\n",
    "    \n",
    "    def __setitem__(self, index, value):\n",
    "        self.__dict__[str(index)] = value\n",
    "    def __getitem__(self, index):\n",
    "        return self.__dict__[str(index)]\n",
    "    def __setattr__(self, index, value):\n",
    "        self.__dict__[str(index)] = value\n",
    "    def __getattr__(self, index):\n",
    "        return self.__dict__[str(index)]\n",
    "\n",
    "\n",
    "def render_value(obj):\n",
    "    if type(obj) is Data:\n",
    "        keys = set(obj.__dict__.keys())\n",
    "        keys.remove('_type')\n",
    "        # print(keys)\n",
    "        if obj._type == list:\n",
    "            sorted_keys = sorted([int(i) for i in keys])\n",
    "            for i in sorted_keys:\n",
    "                # print(\"{0} {1}\".format(obj.__dict__, type(obj.__dict__[str(i)])))\n",
    "                if type(obj.__dict__[str(i)]) is Data:\n",
    "                    rlt = [render_value(obj.__dict__[str(i)]) for i in sorted_keys]\n",
    "                else:\n",
    "                    rlt = [obj[str(i)] for i in sorted_keys]\n",
    "        if obj._type == dict:\n",
    "            for i in keys:\n",
    "                # print(\"{0} {1}\".format(obj.__dict__, type(obj.__dict__[i])))\n",
    "                if type(obj.__dict__[i]) is Data:\n",
    "                    rlt = {i: render_value(obj.__dict__[i]) for i in keys}\n",
    "                else:\n",
    "                    rlt = {i: obj[i] for i in keys}\n",
    "    else:\n",
    "        rlt = obj\n",
    "    return rlt\n",
    "\n",
    "data = Data('dict')\n",
    "data.a = 1\n",
    "data.b = Data('list')\n",
    "data.c = \"abcd\"\n",
    "data.b[1] = Data('dict')\n",
    "data.b[1].a = 1\n",
    "data.b[0] = Data('dict')\n",
    "data.b[0].a = 2\n",
    "\n",
    "# print(data)\n",
    "r = render_value(data)\n",
    "print(r)"
   ]
  },
  {
   "cell_type": "code",
   "execution_count": 7,
   "metadata": {},
   "outputs": [
    {
     "name": "stdout",
     "output_type": "stream",
     "text": [
      "{'a': 1, 'b': [{'a': [1, 2, 3]}, {'a': ['here', {'maybe': 'maybe'}]}], 'c': 'abcd'}\n"
     ]
    }
   ],
   "source": [
    "def render_value(obj):\n",
    "    keys = set(obj.__dict__.keys())\n",
    "    keys.remove('_type')\n",
    "    if obj._type == 'list':\n",
    "        sorted_keys = sorted([int(i) for i in keys])\n",
    "        l = len(sorted_keys)\n",
    "        remap_keys = range(l)\n",
    "        m = {remap_keys[i]:str(sorted_keys[i]) for i in range(l)}\n",
    "        rlt = [None for i in range(l)]\n",
    "        for idx, attr in m.items():\n",
    "            if type(obj.__dict__[attr]) is Data:\n",
    "                rlt[idx] = render_value(obj.__dict__[attr])\n",
    "            else:\n",
    "                rlt[idx] = obj[attr]\n",
    "    if obj._type == 'dict':\n",
    "        rlt = {}\n",
    "        for i in keys:\n",
    "            if type(obj.__dict__[i]) is Data:\n",
    "                rlt[i] = render_value(obj.__dict__[i])\n",
    "            else:\n",
    "                rlt[i] = obj[i]\n",
    "    return rlt\n",
    "\n",
    "class Data:\n",
    "    def __init__(self, t):\n",
    "        if t in ('list', 'dict'):\n",
    "            self._type = t\n",
    "        else:\n",
    "            print(t)\n",
    "            raise ValueError(\"type input error\")\n",
    "    \n",
    "    def __setitem__(self, index, value):\n",
    "        self.__dict__[str(index)] = value\n",
    "    def __getitem__(self, index):\n",
    "        return self.__dict__[str(index)]\n",
    "    def __setattr__(self, index, value):\n",
    "        self.__dict__[str(index)] = value\n",
    "    def __getattr__(self, index):\n",
    "        return self.__dict__[str(index)]\n",
    "\n",
    "\n",
    "data = Data('dict')\n",
    "data.a = 1\n",
    "data.b = Data('list')\n",
    "data.c = \"abcd\"\n",
    "data.b[1] = Data('dict')\n",
    "data.b[1].a = Data('list')\n",
    "data.b[1].a[0] = \"here\"\n",
    "data.b[1].a[1] = Data('dict')\n",
    "data.b[1].a[1][\"maybe\"] = \"maybe\"\n",
    "\n",
    "\n",
    "data.b[0] = Data('dict')\n",
    "data.b[0].a = [1, 2,3, ]\n",
    "\n",
    "# print(data)\n",
    "r = render_value(data)\n",
    "print(r)"
   ]
  },
  {
   "cell_type": "code",
   "execution_count": null,
   "metadata": {},
   "outputs": [
    {
     "name": "stdout",
     "output_type": "stream",
     "text": [
      "Node(0)\n",
      "Node(1)\n",
      "Node(3)\n",
      "Node(2)\n",
      "Node(4)\n"
     ]
    }
   ],
   "source": [
    "class Node:\n",
    "    def __init__(self, value) -> None:\n",
    "        self._value = value\n",
    "        self._children = []\n",
    "    def __repr__(self) -> str:\n",
    "        return f\"Node({self._value})\"\n",
    "    def add_child(self, node):\n",
    "        self._children.append(node)\n",
    "    def __iter__(self):\n",
    "        return iter(self._children)\n",
    "    def depth_first(self):\n",
    "        yield self\n",
    "        for c in self:\n",
    "            yield from c.depth_first()\n",
    "\n",
    "root = Node(0)\n",
    "c1 = Node(1)\n",
    "c2 = Node(2)\n",
    "root.add_child(c1)\n",
    "root.add_child(c2)\n",
    "c1.add_child(Node(3))\n",
    "c2.add_child(Node(4))\n",
    "\n",
    "for i in root.depth_first():\n",
    "    print(i)\n"
   ]
  },
  {
   "cell_type": "code",
   "execution_count": 18,
   "metadata": {},
   "outputs": [
    {
     "name": "stdout",
     "output_type": "stream",
     "text": [
      "1\n",
      "([1, 2],)\n"
     ]
    }
   ],
   "source": [
    "a = (1, 2)\n",
    "c = [[1, 2]]\n",
    "b = tuple([a])\n",
    "c = tuple(c)\n",
    "print(len(b))\n",
    "print(c)\n"
   ]
  },
  {
   "cell_type": "code",
   "execution_count": null,
   "metadata": {},
   "outputs": [],
   "source": [
    "\n",
    "class Countdown:\n",
    "    def __init__(self, step) -> None:\n",
    "        print(\"start init\")\n",
    "        self.step = step\n",
    "        print(\"init done\\n\")\n",
    "    def __next__(self):\n",
    "        print(\"start next with step: {0}\".format(self.step))\n",
    "        if self.step > 5:\n",
    "            raise StopIteration\n",
    "        self.step += 1\n",
    "        print(\"end next with step: {0}\\n\".format(self.step))\n",
    "        return self\n",
    "    def __iter__(self):\n",
    "        return self#.__next__()\n",
    "\n",
    "# c = Countdown(0)\n",
    "# next(c)\n",
    "# for i in c:\n",
    "#     print(i)\n",
    "# for idx, i in enumerate(c):\n",
    "#     print(idx, i.step)\n",
    "\n",
    "# for i in range(12):\n",
    "#     # print(c.step)\n",
    "#     print(i)\n",
    "#     print(\"step{0}\".format(c.step))\n",
    "#     next(c)\n",
    "\n",
    "for idx, i in enumerate(Countdown(0)):\n",
    "    print(\"idx {0}\".format(idx))\n",
    "    # print(i.step)\n",
    "# print(list(Countdown(0)))\n",
    "\n",
    "\n"
   ]
  },
  {
   "cell_type": "code",
   "execution_count": null,
   "metadata": {},
   "outputs": [],
   "source": [
    "def func():\n",
    "    print(\"start func\")\n",
    "    while True:\n",
    "        res = yield  4\n",
    "        print(\"res: {0}\".format(res))\n",
    "\n",
    "\n",
    "f = func()\n",
    "print(\"###\")\n",
    "print(next(f))\n",
    "print(\"===\")\n",
    "print(next(f))\n",
    "print(\"+++\")\n",
    "print(next(f))\n",
    "print(\"---\")\n",
    "print(next(f))"
   ]
  },
  {
   "cell_type": "code",
   "execution_count": 86,
   "metadata": {},
   "outputs": [
    {
     "name": "stdout",
     "output_type": "stream",
     "text": [
      "init called\n",
      "\n",
      "===\n",
      "iter called\n",
      "\n",
      "next called\n",
      "self.step before += 1: 0\n",
      "self.step after += 1: 1\n",
      "\n",
      "0\n",
      "1\n",
      "next called\n",
      "self.step before += 1: 1\n",
      "self.step after += 1: 2\n",
      "\n",
      "1\n",
      "2\n",
      "next called\n",
      "self.step before += 1: 2\n",
      "self.step after += 1: 3\n",
      "\n",
      "2\n",
      "3\n",
      "next called\n",
      "self.step before += 1: 3\n",
      "self.step after += 1: 4\n",
      "\n",
      "3\n",
      "4\n",
      "next called\n",
      "self.step before += 1: 4\n",
      "self.step after += 1: 5\n",
      "\n",
      "4\n",
      "5\n",
      "next called\n",
      "self.step before += 1: 5\n",
      "self.step after += 1: 6\n",
      "\n",
      "5\n",
      "6\n",
      "next called\n",
      "self.step before += 1: 6\n"
     ]
    }
   ],
   "source": [
    "class C:\n",
    "    def __init__(self, step=0):\n",
    "        self.step = step\n",
    "        print(\"init called\\n\")\n",
    "        pass\n",
    "    def __iter__(self):\n",
    "        print(\"iter called\\n\")\n",
    "        return self\n",
    "    def __next__(self):\n",
    "        print(\"next called\")\n",
    "        print(\"self.step before += 1: {0}\".format(self.step))\n",
    "        if self.step > 5:\n",
    "            raise StopIteration\n",
    "        self.step += 1\n",
    "        print(\"self.step after += 1: {0}\\n\".format(self.step))\n",
    "        # yield self\n",
    "        return self\n",
    "        print('yield done')\n",
    "\n",
    "c = C()\n",
    "print(\"===\")\n",
    "for idx, i in enumerate(c):\n",
    "    print(idx)\n",
    "    print(i.step)\n",
    "    # next(i)\n",
    "    # print(i.step)\n",
    "\n"
   ]
  },
  {
   "cell_type": "code",
   "execution_count": 112,
   "metadata": {},
   "outputs": [
    {
     "name": "stdout",
     "output_type": "stream",
     "text": [
      "abcdefg\n",
      "2\n"
     ]
    }
   ],
   "source": [
    "from io import StringIO\n",
    "output = StringIO()\n",
    "output.write(\"abcdefg\")\n",
    "output.seek(2)\n",
    "print(output.getvalue())\n",
    "print(output.tell())\n",
    "# print(next(output))"
   ]
  },
  {
   "cell_type": "code",
   "execution_count": 120,
   "metadata": {},
   "outputs": [
    {
     "name": "stdout",
     "output_type": "stream",
     "text": [
      "0: 1166\n",
      "1: 370\n",
      "2: 166\n",
      "3: 24\n",
      "4: 119\n",
      "5: 4\n",
      "8: 3\n",
      "9: 59\n",
      "[]\n",
      "{'0': 101, '1': 105, '2': 119, '3': 111, '4': 167, '5': 145, '8': 100, '9': 112}\n",
      "{'0': 2010, '1': 2003, '2': 2004, '3': 1866, '4': 2000, '5': 1667, '8': 266, '9': 1996}\n",
      "100\n",
      "2010\n"
     ]
    }
   ],
   "source": [
    "j_path = r\"G:\\Seafile\\工程仓库\\triple_match_3d\\extracted_files\\TextAsset\\FinalLoopLevelsGroup.json\"\n",
    "import json5\n",
    "with open(j_path, 'r', encoding='utf-8') as f:\n",
    "    j = json5.load(f)\n",
    "    all_min = {}\n",
    "    all_max = {}\n",
    "    lst_100_2010 = set(range(100, 2011))\n",
    "    not_selected = []\n",
    "    j = sorted(j.items(), key=lambda x: int(x[0]))\n",
    "    for k, v in j:\n",
    "        print(\"{0}: {1}\".format(k, len(v)))\n",
    "        all_min[k] = min(v)\n",
    "        all_max[k] = max(v)\n",
    "        v_set = set(v)\n",
    "        lst_100_2010 = lst_100_2010 - v_set\n",
    "print(sorted(list(lst_100_2010)))\n",
    "print(all_min)\n",
    "print(all_max)\n",
    "print(min(all_min.values()))\n",
    "print(max(all_max.values()))"
   ]
  },
  {
   "cell_type": "code",
   "execution_count": 6,
   "metadata": {},
   "outputs": [
    {
     "name": "stdout",
     "output_type": "stream",
     "text": [
      "((3, 2), (3, 5))\n",
      "((3, 2),)\n",
      "beginner_bundle\n"
     ]
    }
   ],
   "source": [
    "content_row = 3\n",
    "a = ((1, 2), (1, 5))\n",
    "b = ((1, 2), )\n",
    "a_ = tuple([(content_row, a[i][1]) for i in range(len(a))])\n",
    "b_ = tuple([(content_row, b[i][1]) for i in range(len(b))])\n",
    "print(a_)\n",
    "print(b_)\n",
    "import xlwings as xw\n",
    "wb_path = r\"D:\\GIT\\Github\\TinyTool\\xlsx\\test.xlsx\"\n",
    "wb = xw.Book(wb_path)\n",
    "ws = wb.sheets(\"Test2\")\n",
    "value = ws.range(*b_).value\n",
    "print(value)"
   ]
  },
  {
   "cell_type": "code",
   "execution_count": 16,
   "metadata": {},
   "outputs": [
    {
     "name": "stdout",
     "output_type": "stream",
     "text": [
      "[1, 2, 3, 4, 5]\n",
      "['[1, 2, 3, 4, 5]']\n",
      "<re.Match object; span=(0, 15), match='[1, 2, 3, 4, 5]'>\n",
      "['{\"fasd\": 12, \"e\": [12, 342]}']\n",
      "<re.Match object; span=(0, 28), match='{\"fasd\": 12, \"e\": [12, 342]}'>\n"
     ]
    }
   ],
   "source": [
    "import json5\n",
    "import re\n",
    "a = \"[1, 2, 3, 4, 5]\"\n",
    "b = '{\"fasd\": 12, \"e\": [12, 342]}'\n",
    "print(json5.loads(a))\n",
    "json_str_reg = re.compile(r\"(^\\[[\\s\\S]*\\]$)|(^\\{[\\s\\S]*\\}$)\")\n",
    "json_str_reg = re.compile(r\"^\\[[\\s\\S]*\\]$|^\\{[\\s\\S]*\\}$\")\n",
    "print(json_str_reg.findall(a))\n",
    "print(json_str_reg.match(a))\n",
    "print(json_str_reg.findall(b))\n",
    "print(json_str_reg.match(b))"
   ]
  },
  {
   "cell_type": "code",
   "execution_count": 5,
   "metadata": {},
   "outputs": [
    {
     "name": "stdout",
     "output_type": "stream",
     "text": [
      "['', '123', '4']\n"
     ]
    }
   ],
   "source": [
    "import re\n",
    "a = \"%123%4\"\n",
    "s = re.split(r\"%\", a)\n",
    "print(s)"
   ]
  },
  {
   "cell_type": "code",
   "execution_count": 13,
   "metadata": {},
   "outputs": [
    {
     "name": "stdout",
     "output_type": "stream",
     "text": [
      "7\n",
      "1\n",
      "2\n",
      "7\n",
      "0\n"
     ]
    }
   ],
   "source": [
    "li = [1, 2, 3, 4, 5, 4, 3, 1, 2]\n",
    "a = next(i for i in reversed(range(len(li))) if li[i] == 1)\n",
    "print(a)\n",
    "# print(a.next())\n",
    "b = iter(li)\n",
    "print(next(b))\n",
    "print(next(b))\n",
    "e = iter(i for i in reversed(range(len(li))) if li[i] == 1)\n",
    "print(next(e))\n",
    "print(next(e))\n",
    "\n"
   ]
  },
  {
   "cell_type": "code",
   "execution_count": 28,
   "metadata": {},
   "outputs": [
    {
     "name": "stdout",
     "output_type": "stream",
     "text": [
      "1 2 3 4 5\n",
      "(1, 2) (1, 4)\n",
      "(1, 2)\n",
      "(1, 2)\n",
      "[2, 3, 4]\n",
      "2\n"
     ]
    }
   ],
   "source": [
    "a = [1, 2, 3, 4, 5]\n",
    "b = ((1, 2), (1, 4))\n",
    "c = ((1, 2),)\n",
    "d = (((1, 2),))\n",
    "print(*a)\n",
    "print(*b)\n",
    "print(*c)\n",
    "print(*d)\n",
    "def range_value_from_list(li, rng):\n",
    "    if len(rng) == 1:\n",
    "        return li[rng[0][1]-1]\n",
    "    elif len(rng) == 2:\n",
    "        return li[rng[0][1]-1:rng[1][1]] \n",
    "print(range_value_from_list(a, b))\n",
    "print(range_value_from_list(a, c))"
   ]
  },
  {
   "cell_type": "code",
   "execution_count": 37,
   "metadata": {},
   "outputs": [
    {
     "name": "stdout",
     "output_type": "stream",
     "text": [
      "2\n"
     ]
    }
   ],
   "source": [
    "class A:\n",
    "    e = 1\n",
    "    def __init__(self):\n",
    "        self.a = 1\n",
    "    class B:\n",
    "        c = 2\n",
    "        def __init__(self):\n",
    "            self.b = 2\n",
    "\n",
    "ca = A()\n",
    "cb = ca.B()\n",
    "print(cb.c)"
   ]
  },
  {
   "cell_type": "code",
   "execution_count": 6,
   "metadata": {},
   "outputs": [
    {
     "name": "stdout",
     "output_type": "stream",
     "text": [
      "{'bundle1': [{'DA': '3.0', 'LA': [1, 2], 'LB': [[110, 120]], 'LC': [[1.0, 14.0, {'Lcab': 14.0}, {'LCac': 15.0}], [16.0, 17.0, 18.0], [{'LCCaa': 19.0, 'LCCab': 20.0, 'LCCac': 21.0}, [{'LCCba': None}, {'LCCbc': None}, {'LCCbd': None}]]], 'LD': [{'LDa': 22.0}, {'LDc': 25.0}, {'LDe': 26.0}, {'LDf': 27.0}, {'LDg': 28.0}, {'LDh': 29.0}]}, {'DA': '8.0', 'LA': [6, 7], 'LB': [{'a': 1, 'b': 2}], 'LC': [[2.0, 3.0, {'Lcab': 19.0}, {'LCac': 20.0}], [21.0, 22.0, 23.0], [{'LCCaa': 24.0, 'LCCab': 25.0, 'LCCac': 26.0}, [{'LCCba': 5.0}, {'LCCbc': 5.0}, {'LCCbd': 5.0}]]], 'LD': [{'LDa': 27.0}, {'LDc': 30.0}, {'LDe': 31.0}, {'LDf': 32.0}, {'LDg': 33.0}, {'LDh': 34.0}]}], 'bundle3': {'DA': '13.0', 'LA': [11, 12], 'LB': [15], 'LC': [[7.0, 8.0, {'Lcab': 24.0}, {'LCac': 25.0}], [26.0, 27.0, 28.0], [{'LCCaa': 29.0, 'LCCab': 30.0, 'LCCac': 31.0}, [{'LCCba': 10.0}, {'LCCbc': 10.0}, {'LCCbd': 10.0}]]], 'LD': [{'LDa': 32.0}, {'LDc': 35.0}, {'LDe': 36.0}, {'LDf': 37.0}, {'LDg': 38.0}, {'LDh': 39.0}]}, 'None': None}\n"
     ]
    }
   ],
   "source": [
    "j_path = r\"D:\\GIT\\Github\\TinyTool\\xlsx\\output\\Test1.json\"\n",
    "import json5\n",
    "with open(j_path, 'r', encoding='utf-8') as f:\n",
    "    j = json5.load(f)\n",
    "    print(j)"
   ]
  },
  {
   "cell_type": "code",
   "execution_count": 12,
   "metadata": {},
   "outputs": [
    {
     "name": "stdout",
     "output_type": "stream",
     "text": [
      "True\n",
      "(1, 4)\n"
     ]
    }
   ],
   "source": [
    "import re\n",
    "header_split_char = \"-\"\n",
    "null_tags = ['null', 'Null', 'NULL', 'none', 'None', 'NONE']\n",
    "def first_n_last_con_occ(in_list, check_str):\n",
    "    first_occ = None\n",
    "    last_occ = None\n",
    "    for idx, item in enumerate(in_list):\n",
    "        if first_occ is None:\n",
    "            if check_str in split_text(item):\n",
    "                if not str(item).startswith(\"#\"):\n",
    "                    first_occ = idx + 1\n",
    "                else:\n",
    "                    continue\n",
    "            else:\n",
    "                continue\n",
    "        else:\n",
    "            if check_str in split_text(item):\n",
    "                if not str(item).startswith(\"#\"):\n",
    "                    last_occ = idx + 1\n",
    "                else:\n",
    "                    continue\n",
    "            else:\n",
    "                pass\n",
    "    if last_occ is None:\n",
    "        last_occ = first_occ\n",
    "    return first_occ, last_occ\n",
    "\n",
    "                \n",
    "def split_text(input):\n",
    "    input = str(input)\n",
    "    output = [i.strip() for i in re.split(header_split_char, input)]\n",
    "    return output\n",
    "\n",
    "def check_tags_in_src(src, tags):\n",
    "    b = False\n",
    "    src = split_text(src)\n",
    "    for tag in tags:\n",
    "        if tag in src:\n",
    "            b = True\n",
    "            break\n",
    "    return b\n",
    "a = \"-none-int-list\"\n",
    "b = [\"abc-int-h\", \"#id5-h\", \"#id6-h\", \"id7-h\", \"#cd-h\"]#, \"id8\", \"id9\"]\n",
    "print(check_tags_in_src(a, null_tags))\n",
    "print(first_n_last_con_occ(b, \"h\"))"
   ]
  },
  {
   "cell_type": "code",
   "execution_count": 5,
   "metadata": {},
   "outputs": [],
   "source": [
    "import json5\n",
    "j = r\"C:\\Users\\HPC\\Documents\\vscode_settings.json\"\n",
    "out = r\"C:\\Users\\HPC\\Documents\\out.json\"\n",
    "with open(j, 'r', encoding='utf-8') as f:\n",
    "    j = json5.load(f)\n",
    "with open(out, 'w', encoding='utf-8') as f:\n",
    "    f.write(json5.dumps(j, indent=4, ensure_ascii=False, \\\n",
    "        sort_keys=True, quote_keys=True, trailing_commas=False))\n",
    "    # print(j)"
   ]
  },
  {
   "cell_type": "code",
   "execution_count": 19,
   "metadata": {},
   "outputs": [
    {
     "name": "stdout",
     "output_type": "stream",
     "text": [
      "time: 0.05505037307739258\n",
      "time: 0.14513158798217773\n",
      "time: 0.056050777435302734\n",
      "time: 0.12311196327209473\n"
     ]
    }
   ],
   "source": [
    "import time\n",
    "def time_deco(func):\n",
    "    def wrapper(*args, **kwargs):\n",
    "        start = time.time()\n",
    "        func(*args, **kwargs)\n",
    "        end = time.time()\n",
    "        print(\"time: {}\".format(end-start))\n",
    "    return wrapper\n",
    "\n",
    "a = [1, 2, 3, 4, 5, 6, 7, 8, 9, 10]\n",
    "# b = set(1, 2, 3, 4, 5, 6, 7, 8, 9, 10)\n",
    "a = None\n",
    "b = \"#None\"\n",
    "\n",
    "@time_deco\n",
    "def func(src):\n",
    "    bool_ = True\n",
    "    for i in range(1000000):\n",
    "        if type(a) is str and a.startwith(\"#\"):\n",
    "            pass\n",
    "\n",
    "@time_deco\n",
    "def func2(src):\n",
    "    bool_ = True\n",
    "    for i in range(1000000):\n",
    "        if str(src).startswith(\"#\"):\n",
    "            pass\n",
    "@time_deco\n",
    "def func3(src):\n",
    "    bool_ = True\n",
    "    for i in range(1000000):\n",
    "        sr = set(src)\n",
    "        if 10 in sr:\n",
    "            bool_ = True\n",
    "    \n",
    "    \n",
    "\n",
    "func(a)\n",
    "func2(a)\n",
    "func(b)\n",
    "func2(b)\n",
    "\n",
    "# func3(a)\n",
    "            \n",
    "        "
   ]
  },
  {
   "cell_type": "code",
   "execution_count": 5,
   "metadata": {},
   "outputs": [
    {
     "name": "stdout",
     "output_type": "stream",
     "text": [
      "[('001', '2', '3'), ('004', '5', '6'), ('a', 'b', 'c'), ('d', 'e', 'f')]\n",
      "00001\n"
     ]
    }
   ],
   "source": [
    "a = [1, 1]\n",
    "b = [1, 1]\n"
   ]
  },
  {
   "cell_type": "code",
   "execution_count": 18,
   "metadata": {},
   "outputs": [
    {
     "name": "stdout",
     "output_type": "stream",
     "text": [
      "False\n",
      "<re.Match object; span=(0, 3), match='1.0'>\n",
      "None\n"
     ]
    },
    {
     "ename": "ValueError",
     "evalue": "invalid literal for int() with base 10: '1.0'",
     "output_type": "error",
     "traceback": [
      "\u001b[1;31m---------------------------------------------------------------------------\u001b[0m",
      "\u001b[1;31mValueError\u001b[0m                                Traceback (most recent call last)",
      "Cell \u001b[1;32mIn[18], line 17\u001b[0m\n\u001b[0;32m     14\u001b[0m         rlt \u001b[39m=\u001b[39m \u001b[39mstr\u001b[39m(\u001b[39mint\u001b[39m(instr))\n\u001b[0;32m     15\u001b[0m     \u001b[39mreturn\u001b[39;00m rlt\n\u001b[1;32m---> 17\u001b[0m \u001b[39mprint\u001b[39m(convert_name(c))\n",
      "Cell \u001b[1;32mIn[18], line 14\u001b[0m, in \u001b[0;36mconvert_name\u001b[1;34m(instr)\u001b[0m\n\u001b[0;32m     12\u001b[0m rlt \u001b[39m=\u001b[39m instr\n\u001b[0;32m     13\u001b[0m \u001b[39mif\u001b[39;00m number_reg\u001b[39m.\u001b[39mmatch(instr):\n\u001b[1;32m---> 14\u001b[0m     rlt \u001b[39m=\u001b[39m \u001b[39mstr\u001b[39m(\u001b[39mint\u001b[39;49m(instr))\n\u001b[0;32m     15\u001b[0m \u001b[39mreturn\u001b[39;00m rlt\n",
      "\u001b[1;31mValueError\u001b[0m: invalid literal for int() with base 10: '1.0'"
     ]
    }
   ],
   "source": [
    "a = [0, -1, 1.5, 1, \"0\", \"1\", None, \"\", \" \", {}, [], set()]\n",
    "# for i in a:\n",
    "#     print(bool(i))\n",
    "c = \"1.0\"\n",
    "e = \"e.1\"\n",
    "print(c.isdigit())\n",
    "import re\n",
    "number_reg = re.compile(r\"^[0-9\\.]+$\")\n",
    "print(number_reg.match(c))\n",
    "print(number_reg.match(e))\n",
    "def convert_name(instr):\n",
    "    rlt = instr\n",
    "    if number_reg.match(instr):\n",
    "        rlt = str(int(float(instr)))\n",
    "    return rlt\n",
    "\n",
    "print(convert_name(c))"
   ]
  },
  {
   "cell_type": "code",
   "execution_count": 55,
   "metadata": {},
   "outputs": [
    {
     "name": "stdout",
     "output_type": "stream",
     "text": [
      "del key: 1\n",
      "{'a': 1, 'c': [{'a': 1}], 'b': 2}\n"
     ]
    }
   ],
   "source": [
    "class UnifiedData:\n",
    "    # 标记数据类型，把数据注册到这个类里面\n",
    "    def __init__(self, t):\n",
    "        if t in ('list', 'dict'):\n",
    "            self._type = t\n",
    "        else:\n",
    "            # print(t)\n",
    "            raise ValueError(\"type input error {0}\".format(t))\n",
    "    \n",
    "    def __setitem__(self, index, value):\n",
    "        self.__dict__[str(index)] = value\n",
    "    def __getitem__(self, index):\n",
    "        return self.__dict__[str(index)]\n",
    "    def __setattr__(self, index, value):\n",
    "        self.__dict__[str(index)] = value\n",
    "    def __getattr__(self, index):\n",
    "        return self.__dict__[str(index)]\n",
    "\n",
    "def render_unified_data(obj, ignore_null=True):\n",
    "    # print(\"render_unified_data is called\")\n",
    "    keys = set(obj.__dict__.keys())\n",
    "    for i in ['_type', '_has_content']:\n",
    "        if i in keys:\n",
    "            keys.remove(i)\n",
    "    # 如果数据类型是list，那么需要对key进行排序，按照数字大小排序输出为list\n",
    "    if obj._type == 'list':\n",
    "        # if ignore_null:\n",
    "        #     sorted_keys = sorted([int(i) for i in keys if obj.__dict__[i] is not None])\n",
    "        #     # print(\"ignore is True and sorted_keys is {0}\".format(sorted_keys))\n",
    "        # else:\n",
    "        sorted_keys = sorted([int(i) for i in keys])\n",
    "            # print(\"ignore is False and sorted_keys is {0}\".format(sorted_keys))\n",
    "        l = len(sorted_keys)\n",
    "        remap_keys = range(l)\n",
    "        m = {remap_keys[i]:str(sorted_keys[i]) for i in range(l)}\n",
    "        rlt = [None for i in range(l)]\n",
    "        for idx, attr in m.items():\n",
    "            if type(obj.__dict__[attr]) is UnifiedData:\n",
    "                rlt[idx] = render_unified_data(obj.__dict__[attr])\n",
    "            else:\n",
    "                rlt[idx] = obj[attr]\n",
    "    # 如果数据类型是dict，那么直接输出为dict\n",
    "    elif obj._type == 'dict':\n",
    "        rlt = {}\n",
    "        for i in keys:\n",
    "            # print(obj.__dict__[i])\n",
    "            if type(obj.__dict__[i]) is UnifiedData:\n",
    "                rlt[i] = render_unified_data(obj.__dict__[i])\n",
    "            else:\n",
    "                # print(obj.__dict__[i])\n",
    "                # if ignore_null and obj.__dict__[i] is None:\n",
    "                #     print(\"found empty cell\")\n",
    "                #     continue\n",
    "                # else:\n",
    "                rlt[i] = obj[i]\n",
    "    else:\n",
    "        raise ValueError(\"obj._type error\")\n",
    "    return rlt\n",
    "\n",
    "def tag_data(obj):\n",
    "    keys = set(obj.__dict__.keys())\n",
    "    for i in ['_type', '_has_content']:\n",
    "        if i in keys:\n",
    "            keys.remove(i)\n",
    "    has_content = []\n",
    "    for key in keys:\n",
    "        if type(obj[key]) is UnifiedData:\n",
    "            has_content.append(tag_data(obj[key]))\n",
    "        else:\n",
    "            if obj[key]:\n",
    "                has_content.append(1)\n",
    "            else:\n",
    "                has_content.append(0)\n",
    "    rlt = 1 if sum(has_content) else 0\n",
    "    obj._has_content = rlt\n",
    "    return rlt\n",
    "\n",
    "def prune_data(obj):\n",
    "    keys = set(obj.__dict__.keys())\n",
    "    for i in ['_type', '_has_content']:\n",
    "        if i in keys:\n",
    "            keys.remove(i)\n",
    "    for key in keys:\n",
    "        if type(obj[key]) is UnifiedData:\n",
    "            if obj[key]._has_content == 0:\n",
    "                print(\"del key: {0}\".format(key))\n",
    "                obj.__delattr__(key)\n",
    "            else:\n",
    "                prune_data(obj[key])\n",
    "                \n",
    "\n",
    "    \n",
    "data = UnifiedData('dict')\n",
    "data.a = 1\n",
    "data.b = 2\n",
    "data.c = UnifiedData('list')\n",
    "data.c[0] = UnifiedData('dict')\n",
    "data.c[1] = UnifiedData('list')\n",
    "data.c[0].a = 1\n",
    "\n",
    "\n",
    "# print(data.__dict__)\n",
    "# print(render_unified_data(data))\n",
    "\n",
    "tag_data(data)\n",
    "prune_data(data)\n",
    "\n",
    "# print(data.c.__dict__)\n",
    "# print(data.c._has_content)\n",
    "print(render_unified_data(data))\n",
    "\n",
    "# print(sum([]))\n",
    "\n",
    "# print(render_unified_data(d2))\n"
   ]
  },
  {
   "cell_type": "code",
   "execution_count": 4,
   "metadata": {},
   "outputs": [
    {
     "name": "stdout",
     "output_type": "stream",
     "text": [
      "class Person {\n",
      "    public Name: str;\n",
      "    public Age: int;\n",
      "    public City: str;\n",
      "    public List<Pets> Pets: class Pets {\n",
      "    public Name: class Name {\n",
      "    public Dog: str;\n",
      "};\n",
      "    public Type: str;\n",
      "}[];\n",
      "}\n"
     ]
    }
   ],
   "source": [
    "import json\n",
    "from typing import List\n",
    "\n",
    "def generate_class(class_name: str, data: dict) -> str:\n",
    "    class_template = f\"class {class_name} {{\\n\"\n",
    "    for key, value in data.items():\n",
    "        if isinstance(value, dict):\n",
    "            class_template += f\"    public {key.capitalize()}: {generate_class(key.capitalize(), value)};\\n\"\n",
    "        elif isinstance(value, list):\n",
    "            if isinstance(value[0], dict):\n",
    "                class_template += f\"    public List<{key.capitalize()}> {key.capitalize()}: {generate_class(key.capitalize(), value[0])}[];\\n\"\n",
    "            else:\n",
    "                class_template += f\"    public List<{type(value[0]).__name__}> {key.capitalize()};\\n\"\n",
    "        else:\n",
    "            class_template += f\"    public {key.capitalize()}: {type(value).__name__};\\n\"\n",
    "    class_template += \"}\"\n",
    "    return class_template\n",
    "\n",
    "if __name__ == \"__main__\":\n",
    "    json_data = '{\"name\": \"John\", \"age\": 30, \"city\": \"New York\", \"pets\": [{\"name\": {\"dog\": \"korgi\"}, \"type\": \"cat\"}, {\"name\": \"Fido\", \"type\": \"dog\"}]}'\n",
    "    data = json.loads(json_data)\n",
    "    class_name = \"Person\"\n",
    "    class_template = generate_class(class_name, data)\n",
    "    print(class_template)\n"
   ]
  },
  {
   "cell_type": "code",
   "execution_count": 2,
   "metadata": {},
   "outputs": [
    {
     "ename": "AttributeError",
     "evalue": "'str' object has no attribute 'items'",
     "output_type": "error",
     "traceback": [
      "\u001b[1;31m---------------------------------------------------------------------------\u001b[0m",
      "\u001b[1;31mAttributeError\u001b[0m                            Traceback (most recent call last)",
      "Cell \u001b[1;32mIn[2], line 28\u001b[0m\n\u001b[0;32m     26\u001b[0m data \u001b[39m=\u001b[39m json\u001b[39m.\u001b[39mloads(json_data)\n\u001b[0;32m     27\u001b[0m class_name \u001b[39m=\u001b[39m \u001b[39m\"\u001b[39m\u001b[39mPerson\u001b[39m\u001b[39m\"\u001b[39m\n\u001b[1;32m---> 28\u001b[0m class_template \u001b[39m=\u001b[39m json_to_csharp_class(json_data, class_name)\n\u001b[0;32m     29\u001b[0m \u001b[39mprint\u001b[39m(class_template)\n",
      "Cell \u001b[1;32mIn[2], line 6\u001b[0m, in \u001b[0;36mjson_to_csharp_class\u001b[1;34m(json_data, class_name)\u001b[0m\n\u001b[0;32m      4\u001b[0m \u001b[39mdef\u001b[39;00m \u001b[39mjson_to_csharp_class\u001b[39m(json_data, class_name):\n\u001b[0;32m      5\u001b[0m     csharp_class \u001b[39m=\u001b[39m \u001b[39mf\u001b[39m\u001b[39m\"\u001b[39m\u001b[39mpublic class \u001b[39m\u001b[39m{\u001b[39;00mclass_name\u001b[39m}\u001b[39;00m\u001b[39m\\n\u001b[39;00m\u001b[39m{{\u001b[39;00m\u001b[39m\\n\u001b[39;00m\u001b[39m\"\u001b[39m\n\u001b[1;32m----> 6\u001b[0m     \u001b[39mfor\u001b[39;00m key, value \u001b[39min\u001b[39;00m json_data\u001b[39m.\u001b[39;49mitems():\n\u001b[0;32m      7\u001b[0m         \u001b[39mif\u001b[39;00m \u001b[39misinstance\u001b[39m(value, \u001b[39mdict\u001b[39m):\n\u001b[0;32m      8\u001b[0m             nested_class_name \u001b[39m=\u001b[39m key\u001b[39m.\u001b[39mcapitalize()\n",
      "\u001b[1;31mAttributeError\u001b[0m: 'str' object has no attribute 'items'"
     ]
    }
   ],
   "source": [
    "import json\n",
    "from typing import List\n",
    "\n",
    "def json_to_csharp_class(json_data, class_name):\n",
    "    csharp_class = f\"public class {class_name}\\n{{\\n\"\n",
    "    for key, value in json_data.items():\n",
    "        if isinstance(value, dict):\n",
    "            nested_class_name = key.capitalize()\n",
    "            nested_class = json_to_csharp_class(value, nested_class_name)\n",
    "            csharp_class += f\"    public {nested_class_name} {key.capitalize()} {{ get; set; }} = new {nested_class_name}();\\n\"\n",
    "            csharp_class += nested_class\n",
    "        else:\n",
    "            csharp_type = \"string\"\n",
    "            if isinstance(value, bool):\n",
    "                csharp_type = \"bool\"\n",
    "            elif isinstance(value, int):\n",
    "                csharp_type = \"int\"\n",
    "            elif isinstance(value, float):\n",
    "                csharp_type = \"double\"\n",
    "            csharp_class += f\"    public {csharp_type} {key.capitalize()} {{ get; set; }} = {value};\\n\"\n",
    "    csharp_class += \"}\\n\\n\"\n",
    "    return csharp_class\n",
    "\n",
    "if __name__ == \"__main__\":\n",
    "    json_data = '{\"name\": \"John\", \"age\": 30, \"city\": \"New York\", \"pets\": [{\"name\": \"Fluffy\", \"type\": \"cat\"}, {\"name\": \"Fido\", \"type\": \"dog\"}]}'\n",
    "    data = json.loads(json_data)\n",
    "    class_name = \"Person\"\n",
    "    class_template = json_to_csharp_class(json_data, class_name)\n",
    "    print(class_template)\n"
   ]
  },
  {
   "cell_type": "code",
   "execution_count": 5,
   "metadata": {},
   "outputs": [
    {
     "name": "stdout",
     "output_type": "stream",
     "text": [
      "True\n",
      "True\n",
      "True\n",
      "True\n"
     ]
    }
   ],
   "source": [
    "a = list()\n",
    "b = dict()\n",
    "c = tuple()\n",
    "e = set()\n",
    "f = [list(), dict(), tuple(), set()]\n",
    "print(a in f)\n",
    "print(b in f)\n",
    "print(c in f)\n",
    "print(e in f)"
   ]
  }
 ],
 "metadata": {
  "kernelspec": {
   "display_name": "Python 3",
   "language": "python",
   "name": "python3"
  },
  "language_info": {
   "codemirror_mode": {
    "name": "ipython",
    "version": 3
   },
   "file_extension": ".py",
   "mimetype": "text/x-python",
   "name": "python",
   "nbconvert_exporter": "python",
   "pygments_lexer": "ipython3",
   "version": "3.8.10"
  },
  "orig_nbformat": 4,
  "vscode": {
   "interpreter": {
    "hash": "f973cb4a030b09cd9bb9856738ba63fde5060c61bd9ad83165067cfeae9c8fdd"
   }
  }
 },
 "nbformat": 4,
 "nbformat_minor": 2
}
